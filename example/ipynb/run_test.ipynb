{
 "cells": [
  {
   "cell_type": "markdown",
   "metadata": {},
   "source": [
    "# Running the test suite"
   ]
  },
  {
   "cell_type": "markdown",
   "metadata": {},
   "source": [
    "You might have to clean the cache from a previous test run (when you get failures with respect to local conftest.py configurations). This can happen when you run the notebooks in a locally mounted directory (i.e. shared by different environments)"
   ]
  },
  {
   "cell_type": "code",
   "execution_count": 19,
   "metadata": {},
   "outputs": [],
   "source": [
    "! cd ../../myhdl/ && py3clean ."
   ]
  },
  {
   "cell_type": "code",
   "execution_count": 39,
   "metadata": {
    "scrolled": true
   },
   "outputs": [
    {
     "name": "stdout",
     "output_type": "stream",
     "text": [
      "py.test-3\n",
      "\u001b[1m============================= test session starts ==============================\u001b[0m\n",
      "platform linux -- Python 3.7.3, pytest-3.10.1, py-1.7.0, pluggy-0.8.0\n",
      "rootdir: /home/pyosys/src/myhdl/myhdl-local, inifile:\n",
      "plugins: notebook-0.6.0\n",
      "collected 86 items                                                             \u001b[0m\u001b[1m\n",
      "\n",
      "test_arith.py \u001b[32m.\u001b[0m\u001b[32m.\u001b[0m\u001b[32m.\u001b[0m\u001b[32m.\u001b[0m\u001b[32m.\u001b[0m\u001b[36m                                                      [  5%]\u001b[0m\n",
      "test_array.py \u001b[32m.\u001b[0m\u001b[32m.\u001b[0m\u001b[32m.\u001b[0m\u001b[33mx\u001b[0m\u001b[36m                                                       [ 10%]\u001b[0m\n",
      "test_blackbox.py \u001b[32m.\u001b[0m\u001b[32m.\u001b[0m\u001b[32m.\u001b[0m\u001b[32m.\u001b[0m\u001b[32m.\u001b[0m\u001b[36m                                                   [ 16%]\u001b[0m\n",
      "test_fsm.py \u001b[32m.\u001b[0m\u001b[32m.\u001b[0m\u001b[32m.\u001b[0m\u001b[32m.\u001b[0m\u001b[33mx\u001b[0m\u001b[36m                                                        [ 22%]\u001b[0m\n",
      "test_general.py \u001b[32m.\u001b[0m\u001b[32m.\u001b[0m\u001b[32m.\u001b[0m\u001b[33mx\u001b[0m\u001b[33ms\u001b[0m\u001b[33mx\u001b[0m\u001b[36m                                                   [ 29%]\u001b[0m\n",
      "test_hierarchy.py \u001b[32m.\u001b[0m\u001b[32m.\u001b[0m\u001b[32m.\u001b[0m\u001b[32m.\u001b[0m\u001b[32m.\u001b[0m\u001b[32m.\u001b[0m\u001b[32m.\u001b[0m\u001b[33ms\u001b[0m\u001b[36m                                               [ 38%]\u001b[0m\n",
      "test_interface.py \u001b[32m.\u001b[0m\u001b[32m.\u001b[0m\u001b[32m.\u001b[0m\u001b[36m                                                    [ 41%]\u001b[0m\n",
      "test_memory.py \u001b[32m.\u001b[0m\u001b[32m.\u001b[0m\u001b[32m.\u001b[0m\u001b[32m.\u001b[0m\u001b[32m.\u001b[0m\u001b[33ms\u001b[0m\u001b[36m                                                    [ 48%]\u001b[0m\n",
      "test_mux.py \u001b[32m.\u001b[0m\u001b[32m.\u001b[0m\u001b[32m.\u001b[0m\u001b[32m.\u001b[0m\u001b[32m.\u001b[0m\u001b[33mX\u001b[0m\u001b[33mX\u001b[0m\u001b[33mx\u001b[0m\u001b[36m                                                     [ 58%]\u001b[0m\n",
      "test_resize.py \u001b[32m.\u001b[0m\u001b[32m.\u001b[0m\u001b[32m.\u001b[0m\u001b[32m.\u001b[0m\u001b[32m.\u001b[0m\u001b[32m.\u001b[0m\u001b[32m.\u001b[0m\u001b[32m.\u001b[0m\u001b[32m.\u001b[0m\u001b[32m.\u001b[0m\u001b[32m.\u001b[0m\u001b[32m.\u001b[0m\u001b[32m.\u001b[0m\u001b[36m                                             [ 73%]\u001b[0m\n",
      "test_shadowsignals.py \u001b[32m.\u001b[0m\u001b[32m.\u001b[0m\u001b[36m                                                 [ 75%]\u001b[0m\n",
      "test_simple.py \u001b[32m.\u001b[0m\u001b[32m.\u001b[0m\u001b[32m.\u001b[0m\u001b[32m.\u001b[0m\u001b[32m.\u001b[0m\u001b[32m.\u001b[0m\u001b[32m.\u001b[0m\u001b[32m.\u001b[0m\u001b[32m.\u001b[0m\u001b[32m.\u001b[0m\u001b[32m.\u001b[0m\u001b[32m.\u001b[0m\u001b[32m.\u001b[0m\u001b[32m.\u001b[0m\u001b[32m.\u001b[0m\u001b[33mx\u001b[0m\u001b[33mx\u001b[0m\u001b[33mx\u001b[0m\u001b[33mx\u001b[0m\u001b[36m                                       [ 97%]\u001b[0m\n",
      "test_stimulus.py \u001b[32m.\u001b[0m\u001b[32m.\u001b[0m\u001b[36m                                                      [100%]\u001b[0m\n",
      "\n",
      "\u001b[32m\u001b[1m========= 72 passed, 3 skipped, 9 xfailed, 2 xpassed in 22.48 seconds ==========\u001b[0m\n",
      "Dumping module `$dummy_driver_1_8'.\n",
      "Dumping module `\\stimulus_assert'.\n"
     ]
    }
   ],
   "source": [
    "! export PYTHONPATH=`pwd`/../../ && cd ../../myhdl/test/conversion/toYosys && make"
   ]
  },
  {
   "cell_type": "code",
   "execution_count": 37,
   "metadata": {},
   "outputs": [
    {
     "name": "stdout",
     "output_type": "stream",
     "text": [
      "\u001b[1m============================= test session starts ==============================\u001b[0m\n",
      "platform linux -- Python 3.7.3, pytest-3.10.1, py-1.7.0, pluggy-0.8.0\n",
      "rootdir: /home/pyosys/src/myhdl/myhdl-local, inifile:\n",
      "plugins: notebook-0.6.0\n",
      "collected 8 items                                                              \u001b[0m\n",
      "\n",
      "test_hierarchy.py \u001b[32m.\u001b[0m\u001b[32m.\u001b[0m\u001b[32m.\u001b[0m\u001b[32m.\u001b[0m\u001b[32m.\u001b[0m\u001b[32m.\u001b[0m\u001b[32m.\u001b[0m\u001b[33ms\u001b[0m\u001b[36m                                               [100%]\u001b[0m\n",
      "\n",
      "\u001b[32m\u001b[1m===================== 7 passed, 1 skipped in 4.04 seconds ======================\u001b[0m\n",
      "Dumping module `$lfsr8_1_1_1_c0_8'.\n",
      "Dumping module `$unit_1_c1_1_1_1_1'.\n",
      "Dumping module `\\unit_array'.\n"
     ]
    }
   ],
   "source": [
    "! export PYTHONPATH=`pwd`/../../ && cd ../../myhdl/test/conversion/toYosys && py.test-3  test_hierarchy.py "
   ]
  },
  {
   "cell_type": "code",
   "execution_count": null,
   "metadata": {},
   "outputs": [],
   "source": []
  }
 ],
 "metadata": {
  "kernelspec": {
   "display_name": "Python 3",
   "language": "python",
   "name": "python3"
  },
  "language_info": {
   "codemirror_mode": {
    "name": "ipython",
    "version": 3
   },
   "file_extension": ".py",
   "mimetype": "text/x-python",
   "name": "python",
   "nbconvert_exporter": "python",
   "pygments_lexer": "ipython3",
   "version": "3.7.3"
  }
 },
 "nbformat": 4,
 "nbformat_minor": 4
}
