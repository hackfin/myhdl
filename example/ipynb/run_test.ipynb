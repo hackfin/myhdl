{
 "cells": [
  {
   "cell_type": "markdown",
   "metadata": {},
   "source": [
    "# Running the test suite"
   ]
  },
  {
   "cell_type": "markdown",
   "metadata": {},
   "source": [
    "You might have to clean the cache from a previous test run (when you get failures with respect to local conftest.py configurations). This can happen when you run the notebooks in a locally mounted directory (i.e. shared by different environments)"
   ]
  },
  {
   "cell_type": "code",
   "execution_count": 1,
   "metadata": {},
   "outputs": [],
   "source": [
    "! cd ../../myhdl/ && py3clean ."
   ]
  },
  {
   "cell_type": "code",
   "execution_count": 2,
   "metadata": {},
   "outputs": [
    {
     "name": "stdout",
     "output_type": "stream",
     "text": [
      "py.test-3\n",
      "\u001b[1m============================= test session starts ==============================\u001b[0m\n",
      "platform linux -- Python 3.7.3, pytest-3.10.1, py-1.7.0, pluggy-0.8.0\n",
      "rootdir: /home/pyosys/src/myhdl/myhdl-local, inifile:\n",
      "plugins: notebook-0.6.0\n",
      "collected 83 items                                                             \u001b[0m\u001b[1m\n",
      "\n",
      "test_arith.py \u001b[32m.\u001b[0m\u001b[32m.\u001b[0m\u001b[32m.\u001b[0m\u001b[32m.\u001b[0m\u001b[32m.\u001b[0m\u001b[36m                                                      [  6%]\u001b[0m\n",
      "test_array.py \u001b[32m.\u001b[0m\u001b[32m.\u001b[0m\u001b[32m.\u001b[0m\u001b[33mx\u001b[0m\u001b[36m                                                       [ 10%]\u001b[0m\n",
      "test_blackbox.py \u001b[32m.\u001b[0m\u001b[32m.\u001b[0m\u001b[32m.\u001b[0m\u001b[32m.\u001b[0m\u001b[32m.\u001b[0m\u001b[36m                                                   [ 16%]\u001b[0m\n",
      "test_fsm.py \u001b[32m.\u001b[0m\u001b[32m.\u001b[0m\u001b[32m.\u001b[0m\u001b[32m.\u001b[0m\u001b[33mx\u001b[0m\u001b[36m                                                        [ 22%]\u001b[0m\n",
      "test_general.py \u001b[32m.\u001b[0m\u001b[32m.\u001b[0m\u001b[32m.\u001b[0m\u001b[33mx\u001b[0m\u001b[33ms\u001b[0m\u001b[33mx\u001b[0m\u001b[36m                                                   [ 30%]\u001b[0m\n",
      "test_hierarchy.py \u001b[32m.\u001b[0m\u001b[32m.\u001b[0m\u001b[32m.\u001b[0m\u001b[32m.\u001b[0m\u001b[32m.\u001b[0m\u001b[32m.\u001b[0m\u001b[32m.\u001b[0m\u001b[33ms\u001b[0m\u001b[36m                                               [ 39%]\u001b[0m\n",
      "test_interface.py \u001b[32m.\u001b[0m\u001b[32m.\u001b[0m\u001b[32m.\u001b[0m\u001b[36m                                                    [ 43%]\u001b[0m\n",
      "test_memory.py \u001b[32m.\u001b[0m\u001b[32m.\u001b[0m\u001b[32m.\u001b[0m\u001b[32m.\u001b[0m\u001b[32m.\u001b[0m\u001b[33ms\u001b[0m\u001b[36m                                                    [ 50%]\u001b[0m\n",
      "test_mux.py \u001b[32m.\u001b[0m\u001b[32m.\u001b[0m\u001b[32m.\u001b[0m\u001b[32m.\u001b[0m\u001b[36m                                                         [ 55%]\u001b[0m\n",
      "test_resize.py \u001b[32m.\u001b[0m\u001b[32m.\u001b[0m\u001b[32m.\u001b[0m\u001b[32m.\u001b[0m\u001b[32m.\u001b[0m\u001b[32m.\u001b[0m\u001b[32m.\u001b[0m\u001b[32m.\u001b[0m\u001b[32m.\u001b[0m\u001b[32m.\u001b[0m\u001b[32m.\u001b[0m\u001b[32m.\u001b[0m\u001b[32m.\u001b[0m\u001b[36m                                             [ 71%]\u001b[0m\n",
      "test_shadowsignals.py \u001b[32m.\u001b[0m\u001b[32m.\u001b[0m\u001b[36m                                                 [ 73%]\u001b[0m\n",
      "test_simple.py \u001b[32m.\u001b[0m\u001b[32m.\u001b[0m\u001b[32m.\u001b[0m\u001b[32m.\u001b[0m\u001b[32m.\u001b[0m\u001b[32m.\u001b[0m\u001b[32m.\u001b[0m\u001b[32m.\u001b[0m\u001b[32m.\u001b[0m\u001b[32m.\u001b[0m\u001b[32m.\u001b[0m\u001b[32m.\u001b[0m\u001b[32m.\u001b[0m\u001b[32m.\u001b[0m\u001b[32m.\u001b[0m\u001b[32m.\u001b[0m\u001b[33mx\u001b[0m\u001b[33mx\u001b[0m\u001b[33mx\u001b[0m\u001b[33mx\u001b[0m\u001b[36m                                      [ 97%]\u001b[0m\n",
      "test_stimulus.py \u001b[32m.\u001b[0m\u001b[32m.\u001b[0m\u001b[36m                                                      [100%]\u001b[0m\n",
      "\n",
      "\u001b[32m\u001b[1m=============== 72 passed, 3 skipped, 8 xfailed in 18.60 seconds ===============\u001b[0m\n",
      "Dumping module `$dummy_driver_1_8'.\n",
      "Dumping module `\\stimulus_assert'.\n"
     ]
    }
   ],
   "source": [
    "! export PYTHONPATH=`pwd`/../../ && cd ../../myhdl/test/conversion/toYosys && make"
   ]
  },
  {
   "cell_type": "code",
   "execution_count": 3,
   "metadata": {},
   "outputs": [
    {
     "name": "stdout",
     "output_type": "stream",
     "text": [
      "\u001b[1m============================= test session starts ==============================\u001b[0m\n",
      "platform linux -- Python 3.7.3, pytest-3.10.1, py-1.7.0, pluggy-0.8.0\n",
      "rootdir: /home/pyosys/src/myhdl/myhdl-local, inifile:\n",
      "plugins: notebook-0.6.0\n",
      "collected 2 items                                                              \u001b[0m\n",
      "\n",
      "test_shadowsignals.py \u001b[32m.\u001b[0m\u001b[32m.\u001b[0m\u001b[36m                                                 [100%]\u001b[0m\n",
      "\n",
      "\u001b[32m\u001b[1m=========================== 2 passed in 0.66 seconds ===========================\u001b[0m\n",
      "Dumping module `$up_counter_1_1_1_8'.\n",
      "Dumping module `\\bitflip'.\n"
     ]
    }
   ],
   "source": [
    "! export PYTHONPATH=`pwd`/../../ && cd ../../myhdl/test/conversion/toYosys && py.test-3  test_shadowsignals.py"
   ]
  }
 ],
 "metadata": {
  "kernelspec": {
   "display_name": "Python 3",
   "language": "python",
   "name": "python3"
  },
  "language_info": {
   "codemirror_mode": {
    "name": "ipython",
    "version": 3
   },
   "file_extension": ".py",
   "mimetype": "text/x-python",
   "name": "python",
   "nbconvert_exporter": "python",
   "pygments_lexer": "ipython3",
   "version": "3.7.3"
  }
 },
 "nbformat": 4,
 "nbformat_minor": 4
}
