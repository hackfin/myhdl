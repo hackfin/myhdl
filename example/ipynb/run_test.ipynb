{
 "cells": [
  {
   "cell_type": "markdown",
   "metadata": {},
   "source": [
    "# Running the test suite"
   ]
  },
  {
   "cell_type": "markdown",
   "metadata": {},
   "source": [
    "You might have to clean the cache from a previous test run (when you get failures with respect to local conftest.py configurations). This can happen when you run the notebooks in a locally mounted directory (i.e. shared by different environments)"
   ]
  },
  {
   "cell_type": "code",
   "execution_count": 6,
   "metadata": {},
   "outputs": [],
   "source": [
    "! cd ../../myhdl/ && py3clean ."
   ]
  },
  {
   "cell_type": "code",
   "execution_count": 8,
   "metadata": {},
   "outputs": [
    {
     "name": "stdout",
     "output_type": "stream",
     "text": [
      "py.test-3\n",
      "\u001b[1m============================= test session starts ==============================\u001b[0m\n",
      "platform linux -- Python 3.7.3, pytest-3.10.1, py-1.7.0, pluggy-0.8.0\n",
      "rootdir: /home/pyosys/src/myhdl-local, inifile:\n",
      "collected 52 items                                                             \u001b[0m\n",
      "\n",
      "test_blackbox.py \u001b[32m.\u001b[0m\u001b[32m.\u001b[0m\u001b[32m.\u001b[0m\u001b[32m.\u001b[0m\u001b[36m                                                    [  7%]\u001b[0m\n",
      "test_fsm.py \u001b[32m.\u001b[0m\u001b[33mx\u001b[0m\u001b[36m                                                           [ 11%]\u001b[0m\n",
      "test_general.py \u001b[32m.\u001b[0m\u001b[32m.\u001b[0m\u001b[32m.\u001b[0m\u001b[33mx\u001b[0m\u001b[33ms\u001b[0m\u001b[33mx\u001b[0m\u001b[36m                                                   [ 23%]\u001b[0m\n",
      "test_hierarchy.py \u001b[32m.\u001b[0m\u001b[32m.\u001b[0m\u001b[32m.\u001b[0m\u001b[32m.\u001b[0m\u001b[33mx\u001b[0m\u001b[36m                                                  [ 32%]\u001b[0m\n",
      "test_interface.py \u001b[32m.\u001b[0m\u001b[32m.\u001b[0m\u001b[32m.\u001b[0m\u001b[36m                                                    [ 38%]\u001b[0m\n",
      "test_memory.py \u001b[32m.\u001b[0m\u001b[32m.\u001b[0m\u001b[32m.\u001b[0m\u001b[33mx\u001b[0m\u001b[36m                                                      [ 46%]\u001b[0m\n",
      "test_resize.py \u001b[32m.\u001b[0m\u001b[32m.\u001b[0m\u001b[32m.\u001b[0m\u001b[32m.\u001b[0m\u001b[32m.\u001b[0m\u001b[32m.\u001b[0m\u001b[32m.\u001b[0m\u001b[32m.\u001b[0m\u001b[32m.\u001b[0m\u001b[32m.\u001b[0m\u001b[32m.\u001b[0m\u001b[32m.\u001b[0m\u001b[32m.\u001b[0m\u001b[36m                                             [ 71%]\u001b[0m\n",
      "test_simple.py \u001b[32m.\u001b[0m\u001b[32m.\u001b[0m\u001b[32m.\u001b[0m\u001b[32m.\u001b[0m\u001b[32m.\u001b[0m\u001b[32m.\u001b[0m\u001b[32m.\u001b[0m\u001b[32m.\u001b[0m\u001b[32m.\u001b[0m\u001b[32m.\u001b[0m\u001b[33mx\u001b[0m\u001b[33mx\u001b[0m\u001b[33mx\u001b[0m\u001b[36m                                             [ 96%]\u001b[0m\n",
      "test_stimulus.py \u001b[32m.\u001b[0m\u001b[32m.\u001b[0m\u001b[36m                                                      [100%]\u001b[0m\n",
      "\n",
      "\u001b[32m\u001b[1m=============== 43 passed, 1 skipped, 8 xfailed in 10.82 seconds ===============\u001b[0m\n",
      "Dumping module `$dummy_driver_1_8'.\n",
      "Dumping module `\\stimulus_assert'.\n"
     ]
    }
   ],
   "source": [
    "! cd ../../myhdl/test/conversion/toYosys && make"
   ]
  },
  {
   "cell_type": "code",
   "execution_count": null,
   "metadata": {},
   "outputs": [],
   "source": []
  }
 ],
 "metadata": {
  "kernelspec": {
   "display_name": "Python 3",
   "language": "python",
   "name": "python3"
  },
  "language_info": {
   "codemirror_mode": {
    "name": "ipython",
    "version": 3
   },
   "file_extension": ".py",
   "mimetype": "text/x-python",
   "name": "python",
   "nbconvert_exporter": "python",
   "pygments_lexer": "ipython3",
   "version": "3.7.3"
  }
 },
 "nbformat": 4,
 "nbformat_minor": 4
}
