{
 "cells": [
  {
   "cell_type": "markdown",
   "metadata": {},
   "source": [
    "# Black box synthesis example\n"
   ]
  },
  {
   "cell_type": "markdown",
   "metadata": {},
   "source": [
    "This creates a user defined assertion cell to wrap an external verilog module under the hood.\n",
    "The `user_assert` blackbox contains a simulation dummy that can be used to print out a warning. When inferring through yosys, a cell will be created that maps to the externally defined [assert.v](../../myhdl/test/conversion/toYosys/aux/assert.v) verilog implementation."
   ]
  },
  {
   "cell_type": "code",
   "execution_count": 1,
   "metadata": {},
   "outputs": [],
   "source": [
    "from myhdl import *\n",
    "from myhdl.conversion import yshelper as ys\n",
    "\n",
    "@blackbox\n",
    "def user_assert(a, b, EN):\n",
    "    \"User defined assert\"\n",
    "\n",
    "    q = Signal(intbv()[len(a):])\n",
    "\n",
    "    @always_comb\n",
    "    def dummy():\n",
    "        \"Dummy simulation to satisfy myhdl\"\n",
    "        q.next = a == b\n",
    "\n",
    "    @synthesis(ys.yosys)\n",
    "    def implementation(module, interface):\n",
    "        \"Adds an assert cell for a == b\"\n",
    "        name = interface.name\n",
    "\n",
    "        in_a = interface.addPort('a')\n",
    "        in_b = interface.addPort('b')\n",
    "        q = module.addSignal(ys.PID(\"eq\"), 1)\n",
    "\n",
    "        en = ys.ConstSignal(EN, 1)\n",
    "\n",
    "        assert_inst = module.addEq(ys.ID(name + \"_eq\"), in_a, in_b, q)\n",
    "\n",
    "        c = module.addCell(name + \"_cell\", \"user_assert\", True)\n",
    "        c.setPort(\"COND\", q)\n",
    "\n",
    "    return dummy, implementation\n"
   ]
  },
  {
   "cell_type": "markdown",
   "metadata": {},
   "source": [
    "This test module executes two LFSR in parallel and feeds them into the user_assert module.\n",
    "If the values don't match, the underlying assertion module [assert.v](../../myhdl/test/conversion/toYosys/aux/assert.v) stops the simulation."
   ]
  },
  {
   "cell_type": "code",
   "execution_count": 2,
   "metadata": {},
   "outputs": [],
   "source": [
    "from lfsr8 import lfsr8\n",
    "\n",
    "@block\n",
    "def my_assert_success(clk, ce, reset, dout, debug):\n",
    "    a, b = [ Signal(modbv(0)[8:]) for i in range(2) ]\n",
    "    START_VAL = 0\n",
    "    inst_lfsr1 = lfsr8(clk, 1, reset, START_VAL, a)\n",
    "    inst_lfsr2 = lfsr8(clk, 1, reset, START_VAL, b)\n",
    "\n",
    "    # Need a dummy instance to drive dout\n",
    "    @always_comb\n",
    "    def dummy():\n",
    "        dout.next = a\n",
    "\n",
    "    inst_assert = user_assert(a, b, 1)\n",
    "\n",
    "    return instances()"
   ]
  },
  {
   "cell_type": "markdown",
   "metadata": {},
   "source": [
    "## Run synthesis"
   ]
  },
  {
   "cell_type": "code",
   "execution_count": 3,
   "metadata": {},
   "outputs": [
    {
     "name": "stdout",
     "output_type": "stream",
     "text": [
      "\u001b[32m========================================================\u001b[0m\n",
      "\u001b[32mCREATE Module: 'lfsr8_0'\u001b[0m\n",
      "\u001b[32mAdding module with name:\u001b[0m lfsr8_1_c1_1_c0_8\n",
      "CONVERT_RTL tree >>>>>> 'MY_ASSERT_SUCCESS_LFSR8_0_WORKER' \n",
      "\u001b[7;31mTIE OTHER\u001b[0m: /home/pyosys/src/myhdl/myhdl-local/example/ipynb/lfsr8.py:31 v\n",
      "CONVERT_RTL tree >>>>>> 'MY_ASSERT_SUCCESS_LFSR8_0_ASSIGN' \n",
      "============================================================================\n",
      "DONE instancing submodules\n",
      "\u001b[32m========================================================\u001b[0m\n",
      "\u001b[32mCREATE Module: 'lfsr8_1'\u001b[0m\n",
      "\u001b[32m========================================================\u001b[0m\n",
      "\u001b[32mCREATE Module: 'user_assert_0'\u001b[0m\n",
      "\u001b[7;34m\tInfer blackbox: 'user_assert_0'\u001b[0m\n",
      "\u001b[32mAdding module with name:\u001b[0m user_assert_8_8_c1\n",
      "\u001b[32m========================================================\u001b[0m\n",
      "\u001b[32mCREATE Module: 'my_assert_success'\u001b[0m\n",
      "\u001b[32mAdding module with name:\u001b[0m my_assert_success_1_1_1_8_1\n",
      "CONVERT_RTL tree >>>>>> 'MY_ASSERT_SUCCESS_DUMMY' \n",
      "============================================================================\n",
      "++++++++ lfsr8_0: lfsr8_1_c1_1_c0_8  ++++++++\n",
      "++++++++ lfsr8_1: lfsr8_1_c1_1_c0_8  ++++++++\n",
      "++++++++ user_assert_0: user_assert_8_8_c1  ++++++++\n",
      "DONE instancing submodules\n"
     ]
    }
   ],
   "source": [
    "# Import cosimulation object wrapper:\n",
    "from ys_aux import mapped_uut_assert, tb_unit\n",
    "# Select unit and general reset method:\n",
    "UNIT = my_assert_success\n",
    "arst = False\n",
    "\n",
    "def convert():\n",
    "    # Declare the signals:    \n",
    "    clk = Signal(bool())\n",
    "    debug = Signal(bool(0))\n",
    "    ce = Signal(bool())\n",
    "    dout = Signal(intbv()[8:])\n",
    "    reset = ResetSignal(0, 1, isasync = arst)\n",
    "    popanz = Signal(bool())\n",
    "\n",
    "    # Create an instance of the test unit for conversion:\n",
    "    entity = UNIT(clk, ce, reset, dout, debug)\n",
    "    name = entity.func.__name__\n",
    "    design = ys.Design(name)\n",
    "    # Convert into synthesis RTLIL:\n",
    "    entity.convert(\"yosys_module\", design, name=name, trace=False)\n",
    "    return design\n",
    "\n",
    "design = convert()\n",
    "# Write out the verilog post-synthesis code for the cosimulation object (further below)\n",
    "design.write_verilog(design.name, True)\n",
    "design.finalize(\"top\")"
   ]
  },
  {
   "cell_type": "markdown",
   "metadata": {},
   "source": [
    "## Running the Co-simulation\n",
    "\n",
    "Again, the MyHDL and Cosimulation object simulation is run in parallel. When the assertion black box verilog module stops the simulation, a premature simulation end condition is fired. The output of the verilog simulation is captured, i.e. you should see an `ASSERTION FAILED` notice."
   ]
  },
  {
   "cell_type": "code",
   "execution_count": 4,
   "metadata": {},
   "outputs": [
    {
     "name": "stdout",
     "output_type": "stream",
     "text": [
      "00 False  ---  00 False\n",
      "1d False  ---  1d False\n",
      "3a False  ---  3a False\n",
      "74 False  ---  74 False\n",
      "e8 False  ---  e8 False\n",
      "cd False  ---  cd False\n",
      "87 False  ---  87 False\n",
      "13 False  ---  13 False\n",
      "26 False  ---  26 False\n",
      "4c False  ---  4c False\n",
      "98 False  ---  98 False\n",
      "2d False  ---  2d False\n",
      "5a False  ---  5a False\n"
     ]
    },
    {
     "name": "stderr",
     "output_type": "stream",
     "text": [
      "<class 'myhdl._SuspendSimulation'>: Simulated 30 timesteps\n"
     ]
    }
   ],
   "source": [
    "tb = tb_unit(UNIT, mapped_uut_assert, arst)\n",
    "# Run the cosimulation:\n",
    "tb.config_sim(backend = 'myhdl', timescale=\"1ps\", trace=False)\n",
    "tb.run_sim(30)\n",
    "tb.quit_sim() # Quit so we can run another one"
   ]
  },
  {
   "cell_type": "markdown",
   "metadata": {},
   "source": [
    "### Excercise\n",
    "\n",
    "Make the above simulation fail by changing the `START_VAL` from one of the lfsr8 units in `my_assert_success`"
   ]
  },
  {
   "cell_type": "markdown",
   "metadata": {},
   "source": [
    "## RTL Display"
   ]
  },
  {
   "cell_type": "markdown",
   "metadata": {},
   "source": [
    "Now display the black box architecture (remember to set the notebook `Trusted`):"
   ]
  },
  {
   "cell_type": "code",
   "execution_count": 5,
   "metadata": {
    "scrolled": true
   },
   "outputs": [
    {
     "name": "stdout",
     "output_type": "stream",
     "text": [
      "Generating RTL image...\n",
      "Display...\n"
     ]
    },
    {
     "data": {
      "image/svg+xml": [
       "<?xml version=\"1.0\" encoding=\"UTF-8\" standalone=\"no\"?>\n",
       "<!DOCTYPE svg PUBLIC \"-//W3C//DTD SVG 1.1//EN\"\n",
       " \"http://www.w3.org/Graphics/SVG/1.1/DTD/svg11.dtd\">\n",
       "<!-- Generated by graphviz version 2.40.1 (20161225.0304)\n",
       " -->\n",
       "<!-- Title: user_assert_8_8_c1 Pages: 1 -->\n",
       "<svg width=\"720pt\" height=\"142pt\"\n",
       " viewBox=\"0.00 0.00 720.00 141.92\" xmlns=\"http://www.w3.org/2000/svg\" xmlns:xlink=\"http://www.w3.org/1999/xlink\">\n",
       "<g id=\"graph0\" class=\"graph\" transform=\"scale(.811 .811) rotate(0) translate(4 171)\">\n",
       "<title>user_assert_8_8_c1</title>\n",
       "<polygon fill=\"#ffffff\" stroke=\"transparent\" points=\"-4,4 -4,-171 883.8315,-171 883.8315,4 -4,4\"/>\n",
       "<text text-anchor=\"middle\" x=\"439.9157\" y=\"-7.8\" font-family=\"Times,serif\" font-size=\"14.00\" fill=\"#000000\">user_assert_8_8_c1</text>\n",
       "<!-- n3 -->\n",
       "<g id=\"node1\" class=\"node\">\n",
       "<title>n3</title>\n",
       "<polygon fill=\"none\" stroke=\"#000000\" points=\"87.6644,-87.5442 87.6644,-102.4558 71.8481,-113 49.4806,-113 33.6644,-102.4558 33.6644,-87.5442 49.4806,-77 71.8481,-77 87.6644,-87.5442\"/>\n",
       "<text text-anchor=\"middle\" x=\"60.6644\" y=\"-91.3\" font-family=\"Times,serif\" font-size=\"14.00\" fill=\"#000000\">a</text>\n",
       "</g>\n",
       "<!-- x0 -->\n",
       "<g id=\"node7\" class=\"node\">\n",
       "<title>x0</title>\n",
       "<path fill=\"none\" stroke=\"#000000\" d=\"M199.3288,-113C199.3288,-113 169.3288,-113 169.3288,-113 163.3288,-113 157.3288,-107 157.3288,-101 157.3288,-101 157.3288,-89 157.3288,-89 157.3288,-83 163.3288,-77 169.3288,-77 169.3288,-77 199.3288,-77 199.3288,-77 205.3288,-77 211.3288,-83 211.3288,-89 211.3288,-89 211.3288,-101 211.3288,-101 211.3288,-107 205.3288,-113 199.3288,-113\"/>\n",
       "<text text-anchor=\"middle\" x=\"184.3288\" y=\"-91.3\" font-family=\"Times,serif\" font-size=\"14.00\" fill=\"#000000\">BUF</text>\n",
       "</g>\n",
       "<!-- n3&#45;&gt;x0 -->\n",
       "<g id=\"edge3\" class=\"edge\">\n",
       "<title>n3:e&#45;&gt;x0:w</title>\n",
       "<path fill=\"none\" stroke=\"#000000\" stroke-width=\"3\" d=\"M87.6644,-95C114.998,-95 124.2337,-95 147.3257,-95\"/>\n",
       "<polygon fill=\"#000000\" stroke=\"#000000\" stroke-width=\"3\" points=\"147.3288,-98.5001 157.3288,-95 147.3287,-91.5001 147.3288,-98.5001\"/>\n",
       "</g>\n",
       "<!-- n4 -->\n",
       "<g id=\"node2\" class=\"node\">\n",
       "<title>n4</title>\n",
       "<polygon fill=\"none\" stroke=\"#000000\" points=\"87.6644,-33.5442 87.6644,-48.4558 71.8481,-59 49.4806,-59 33.6644,-48.4558 33.6644,-33.5442 49.4806,-23 71.8481,-23 87.6644,-33.5442\"/>\n",
       "<text text-anchor=\"middle\" x=\"60.6644\" y=\"-37.3\" font-family=\"Times,serif\" font-size=\"14.00\" fill=\"#000000\">b</text>\n",
       "</g>\n",
       "<!-- x1 -->\n",
       "<g id=\"node8\" class=\"node\">\n",
       "<title>x1</title>\n",
       "<path fill=\"none\" stroke=\"#000000\" d=\"M199.3288,-59C199.3288,-59 169.3288,-59 169.3288,-59 163.3288,-59 157.3288,-53 157.3288,-47 157.3288,-47 157.3288,-35 157.3288,-35 157.3288,-29 163.3288,-23 169.3288,-23 169.3288,-23 199.3288,-23 199.3288,-23 205.3288,-23 211.3288,-29 211.3288,-35 211.3288,-35 211.3288,-47 211.3288,-47 211.3288,-53 205.3288,-59 199.3288,-59\"/>\n",
       "<text text-anchor=\"middle\" x=\"184.3288\" y=\"-37.3\" font-family=\"Times,serif\" font-size=\"14.00\" fill=\"#000000\">BUF</text>\n",
       "</g>\n",
       "<!-- n4&#45;&gt;x1 -->\n",
       "<g id=\"edge4\" class=\"edge\">\n",
       "<title>n4:e&#45;&gt;x1:w</title>\n",
       "<path fill=\"none\" stroke=\"#000000\" stroke-width=\"3\" d=\"M87.6644,-41C114.998,-41 124.2337,-41 147.3257,-41\"/>\n",
       "<polygon fill=\"#000000\" stroke=\"#000000\" stroke-width=\"3\" points=\"147.3288,-44.5001 157.3288,-41 147.3287,-37.5001 147.3288,-44.5001\"/>\n",
       "</g>\n",
       "<!-- n5 -->\n",
       "<g id=\"node3\" class=\"node\">\n",
       "<title>n5</title>\n",
       "<polygon fill=\"none\" stroke=\"#000000\" points=\"543.5801,-86 512.5754,-68 543.5801,-50 574.5848,-68 543.5801,-86\"/>\n",
       "<text text-anchor=\"middle\" x=\"543.5801\" y=\"-64.3\" font-family=\"Times,serif\" font-size=\"14.00\" fill=\"#000000\">eq</text>\n",
       "</g>\n",
       "<!-- c8 -->\n",
       "<g id=\"node5\" class=\"node\">\n",
       "<title>c8</title>\n",
       "<polygon fill=\"none\" stroke=\"#000000\" points=\"610.8315,-49 610.8315,-87 879.8315,-87 879.8315,-49 610.8315,-49\"/>\n",
       "<text text-anchor=\"middle\" x=\"642.8315\" y=\"-64.3\" font-family=\"Times,serif\" font-size=\"14.00\" fill=\"#000000\">COND</text>\n",
       "<polyline fill=\"none\" stroke=\"#000000\" points=\"674.8315,-49 674.8315,-87 \"/>\n",
       "<text text-anchor=\"middle\" x=\"766.8315\" y=\"-71.8\" font-family=\"Times,serif\" font-size=\"14.00\" fill=\"#000000\">$bb_user_assert_0_cell</text>\n",
       "<text text-anchor=\"middle\" x=\"766.8315\" y=\"-56.8\" font-family=\"Times,serif\" font-size=\"14.00\" fill=\"#000000\">user_assert</text>\n",
       "<polyline fill=\"none\" stroke=\"#000000\" points=\"858.8315,-49 858.8315,-87 \"/>\n",
       "<text text-anchor=\"middle\" x=\"869.3315\" y=\"-64.3\" font-family=\"Times,serif\" font-size=\"14.00\" fill=\"#000000\"> </text>\n",
       "</g>\n",
       "<!-- n5&#45;&gt;c8 -->\n",
       "<g id=\"edge6\" class=\"edge\">\n",
       "<title>n5:e&#45;&gt;c8:w</title>\n",
       "<path fill=\"none\" stroke=\"#000000\" d=\"M574.5801,-68C586.6639,-68 591.9505,-68 600.6358,-68\"/>\n",
       "<polygon fill=\"#000000\" stroke=\"#000000\" points=\"600.8315,-71.5001 610.8315,-68 600.8314,-64.5001 600.8315,-71.5001\"/>\n",
       "</g>\n",
       "<!-- n6 -->\n",
       "<g id=\"node4\" class=\"node\">\n",
       "<title>n6</title>\n",
       "<polygon fill=\"none\" stroke=\"#000000\" points=\"60.6644,-167 -.1648,-149 60.6644,-131 121.4936,-149 60.6644,-167\"/>\n",
       "<text text-anchor=\"middle\" x=\"60.6644\" y=\"-145.3\" font-family=\"Times,serif\" font-size=\"14.00\" fill=\"#000000\">q::wire</text>\n",
       "</g>\n",
       "<!-- c12 -->\n",
       "<g id=\"node6\" class=\"node\">\n",
       "<title>c12</title>\n",
       "<polygon fill=\"none\" stroke=\"#000000\" points=\"247.3288,-45 247.3288,-91 476.3288,-91 476.3288,-45 247.3288,-45\"/>\n",
       "<text text-anchor=\"middle\" x=\"260.8288\" y=\"-75.8\" font-family=\"Times,serif\" font-size=\"14.00\" fill=\"#000000\">A</text>\n",
       "<polyline fill=\"none\" stroke=\"#000000\" points=\"247.3288,-68 274.3288,-68 \"/>\n",
       "<text text-anchor=\"middle\" x=\"260.8288\" y=\"-52.8\" font-family=\"Times,serif\" font-size=\"14.00\" fill=\"#000000\">B</text>\n",
       "<polyline fill=\"none\" stroke=\"#000000\" points=\"274.3288,-45 274.3288,-91 \"/>\n",
       "<text text-anchor=\"middle\" x=\"362.3288\" y=\"-71.8\" font-family=\"Times,serif\" font-size=\"14.00\" fill=\"#000000\">$bb_user_assert_0_eq</text>\n",
       "<text text-anchor=\"middle\" x=\"362.3288\" y=\"-56.8\" font-family=\"Times,serif\" font-size=\"14.00\" fill=\"#000000\">$eq</text>\n",
       "<polyline fill=\"none\" stroke=\"#000000\" points=\"450.3288,-45 450.3288,-91 \"/>\n",
       "<text text-anchor=\"middle\" x=\"463.3288\" y=\"-64.3\" font-family=\"Times,serif\" font-size=\"14.00\" fill=\"#000000\">Y</text>\n",
       "</g>\n",
       "<!-- c12&#45;&gt;n5 -->\n",
       "<g id=\"edge5\" class=\"edge\">\n",
       "<title>c12:e&#45;&gt;n5:w</title>\n",
       "<path fill=\"none\" stroke=\"#000000\" d=\"M476.3288,-68C488.4125,-68 493.6992,-68 502.3844,-68\"/>\n",
       "<polygon fill=\"#000000\" stroke=\"#000000\" points=\"502.5801,-71.5001 512.5801,-68 502.5801,-64.5001 502.5801,-71.5001\"/>\n",
       "</g>\n",
       "<!-- x0&#45;&gt;c12 -->\n",
       "<g id=\"edge1\" class=\"edge\">\n",
       "<title>x0:e&#45;&gt;c12:w</title>\n",
       "<path fill=\"none\" stroke=\"#000000\" stroke-width=\"3\" d=\"M211.3288,-95C224.5996,-95 228.4915,-86.2073 237.366,-82.0857\"/>\n",
       "<polygon fill=\"#000000\" stroke=\"#000000\" stroke-width=\"3\" points=\"238.2581,-85.4749 247.3288,-80 236.8237,-78.6234 238.2581,-85.4749\"/>\n",
       "</g>\n",
       "<!-- x1&#45;&gt;c12 -->\n",
       "<g id=\"edge2\" class=\"edge\">\n",
       "<title>x1:e&#45;&gt;c12:w</title>\n",
       "<path fill=\"none\" stroke=\"#000000\" stroke-width=\"3\" d=\"M211.3288,-41C224.5996,-41 228.4915,-49.7927 237.366,-53.9143\"/>\n",
       "<polygon fill=\"#000000\" stroke=\"#000000\" stroke-width=\"3\" points=\"236.8237,-57.3766 247.3288,-56 238.2581,-50.5251 236.8237,-57.3766\"/>\n",
       "</g>\n",
       "</g>\n",
       "</svg>\n"
      ],
      "text/plain": [
       "<graphviz.files.Source at 0x7f35014501d0>"
      ]
     },
     "metadata": {},
     "output_type": "display_data"
    }
   ],
   "source": [
    "from ys_aux import to_svg\n",
    "# Specifically choose $user_assert cell to display:\n",
    "display(to_svg(design, \"user_assert_8_8_c1\"))"
   ]
  },
  {
   "cell_type": "code",
   "execution_count": null,
   "metadata": {},
   "outputs": [],
   "source": []
  }
 ],
 "metadata": {
  "kernelspec": {
   "display_name": "Python 3",
   "language": "python",
   "name": "python3"
  },
  "language_info": {
   "codemirror_mode": {
    "name": "ipython",
    "version": 3
   },
   "file_extension": ".py",
   "mimetype": "text/x-python",
   "name": "python",
   "nbconvert_exporter": "python",
   "pygments_lexer": "ipython3",
   "version": "3.7.3"
  }
 },
 "nbformat": 4,
 "nbformat_minor": 4
}
