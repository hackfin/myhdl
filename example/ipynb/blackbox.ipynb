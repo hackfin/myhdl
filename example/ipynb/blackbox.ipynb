{
 "cells": [
  {
   "cell_type": "markdown",
   "metadata": {},
   "source": [
    "# Black box synthesis example\n"
   ]
  },
  {
   "cell_type": "markdown",
   "metadata": {},
   "source": [
    "This creates a user defined assertion cell to wrap an external verilog module under the hood.\n",
    "The `user_assert` blackbox contains a simulation dummy that can be used to print out a warning. When inferring through yosys, a cell will be created that maps to the externally defined [`user_assert.v`](../../myhdl/test/conversion/toYosys/aux/assert.v) verilog implementation."
   ]
  },
  {
   "cell_type": "code",
   "execution_count": 1,
   "metadata": {},
   "outputs": [],
   "source": [
    "from myhdl import *\n",
    "from myhdl.conversion import yshelper as ys\n",
    "\n",
    "@blackbox\n",
    "def user_assert(a, b, EN):\n",
    "\t\"User defined assert\"\n",
    "\n",
    "\tq = Signal(intbv()[len(a):])\n",
    "\n",
    "\t@always_comb\n",
    "\tdef dummy():\n",
    "\t\t\"Dummy simulation to satisfy myhdl\"\n",
    "\t\tq.next = a == b\n",
    "\n",
    "\t@synthesis(ys.yosys)\n",
    "\tdef implementation(module, interface):\n",
    "\t\t\"Adds an assert cell for a == b\"\n",
    "\t\tname = interface.name\n",
    "\n",
    "\t\tin_a = interface.addWire(a)\n",
    "\t\tin_b = interface.addWire(b)\n",
    "\t\tq = module.addSignal(ys.PID(\"eq\"), 1)\n",
    "\n",
    "\t\ten = ys.ConstSignal(EN, 1)\n",
    "\n",
    "\t\tassert_inst = module.addEq(ys.ID(name + \"_eq\"), in_a, in_b, q)\n",
    "\n",
    "\t\tc = module.addCell(name + \"_cell\", \"user_assert\", True)\n",
    "\t\tc.setPort(\"COND\", q)\n",
    "\n",
    "\treturn dummy, implementation\n"
   ]
  },
  {
   "cell_type": "markdown",
   "metadata": {},
   "source": [
    "This test module executes two LFSR in parallel and feeds them into the user_assert module.\n",
    "If the values don't match, the underlying assertion module [user_assert.v](../../myhdl/test/conversion/toYosys/aux/assert.v) stops the simulation."
   ]
  },
  {
   "cell_type": "code",
   "execution_count": 2,
   "metadata": {},
   "outputs": [],
   "source": [
    "from lfsr8 import lfsr8\n",
    "\n",
    "@block\n",
    "def my_assert_success(clk, ce, reset, dout, debug):\n",
    "\ta, b = [ Signal(modbv(0)[8:]) for i in range(2) ]\n",
    "\tSTART_VAL = 0\n",
    "\tinst_lfsr1 = lfsr8(clk, 1, reset, START_VAL, a)\n",
    "\tinst_lfsr2 = lfsr8(clk, 1, reset, START_VAL, b)\n",
    "\n",
    "\t# Need a dummy instance to drive dout\n",
    "\t@always_comb\n",
    "\tdef dummy():\n",
    "\t\tdout.next = a\n",
    "\n",
    "\tinst_assert = user_assert(a, b, 1)\n",
    "\n",
    "\treturn instances()"
   ]
  },
  {
   "cell_type": "markdown",
   "metadata": {},
   "source": [
    "## Run synthesis"
   ]
  },
  {
   "cell_type": "code",
   "execution_count": 3,
   "metadata": {},
   "outputs": [
    {
     "name": "stdout",
     "output_type": "stream",
     "text": [
      "\u001b[32m========================================================\u001b[0m\n",
      "\u001b[32mCREATE Module: 'my_assert_success'\u001b[0m\n",
      "\u001b[32mAdding module with name:\u001b[0m my_assert_success_1_1_1_8_1\n",
      "============================================================================\n",
      "VISIT INSTANCES\n",
      "++++++++  lfsr8_1_c1_1_c0_8  ++++++++\n",
      "PASSIVE wire clk <- clk\n",
      "CONST wire\n",
      "WARNING: Parameter 'ce' handled as constant signal\n",
      "PASSIVE wire reset <- reset\n",
      "CONST wire\n",
      "WARNING: Parameter 'rval' handled as constant signal\n",
      "ACTIVE wire a -> dout\n",
      "++++++++  lfsr8_1_c1_1_c0_8  ++++++++\n",
      "PASSIVE wire clk <- clk\n",
      "CONST wire\n",
      "WARNING: Parameter 'ce' handled as constant signal\n",
      "PASSIVE wire reset <- reset\n",
      "CONST wire\n",
      "WARNING: Parameter 'rval' handled as constant signal\n",
      "ACTIVE wire b -> dout\n",
      "++++++++  user_assert_8_8_c1  ++++++++\n",
      "ACTIVE wire a -> a\n",
      "ACTIVE wire b -> b\n",
      "CONST wire\n",
      "WARNING: Parameter 'EN' handled as constant signal\n",
      "DONE instancing submodules\n",
      "\u001b[32m========================================================\u001b[0m\n",
      "\u001b[32mCREATE Module: 'lfsr8_0'\u001b[0m\n",
      "\u001b[32mAdding module with name:\u001b[0m lfsr8_1_c1_1_c0_8\n",
      "\u001b[7;31mNOTICE\u001b[0m: /home/pyosys/src/myhdl-local/example/ipynb/lfsr8.py:31 call compare attr\n",
      "\u001b[7;31mNOTICE\u001b[0m: /home/pyosys/src/myhdl-local/example/ipynb/lfsr8.py:36 call compare attr\n",
      "\u001b[7;31mSIGNAL local: 'fb', IdString \"$fb\"\u001b[0m: /home/pyosys/src/myhdl-local/example/ipynb/lfsr8.py:37 MARK\n",
      "============================================================================\n",
      "VISIT INSTANCES\n",
      "DONE instancing submodules\n",
      "\u001b[32m========================================================\u001b[0m\n",
      "\u001b[32mCREATE Module: 'lfsr8_1'\u001b[0m\n",
      "\u001b[32m========================================================\u001b[0m\n",
      "\u001b[32mCREATE Module: 'user_assert_0'\u001b[0m\n",
      "\u001b[32m\tInfer blackbox: 'user_assert_0'\u001b[0m\n",
      "\u001b[32mAdding module with name:\u001b[0m user_assert_8_8_c1\n"
     ]
    }
   ],
   "source": [
    "# Import cosimulation object wrapper:\n",
    "from ys_aux import mapped_uut_assert, tb_unit\n",
    "# Select unit and general reset method:\n",
    "UNIT = my_assert_success\n",
    "arst = False\n",
    "\n",
    "# Declare the signals:    \n",
    "clk = Signal(bool())\n",
    "debug = Signal(bool(0))\n",
    "ce = Signal(bool())\n",
    "dout = Signal(intbv()[8:])\n",
    "reset = ResetSignal(0, 1, isasync = arst)\n",
    "\n",
    "# Create an instance of the test unit for conversion:\n",
    "entity = UNIT(clk, ce, reset, dout, debug)\n",
    "name = entity.func.__name__\n",
    "design = ys.Design(name)\n",
    "# Convert into synthesis RTLIL:\n",
    "entity.convert(\"yosys_module\", design, name=name, trace=False)\n",
    "\n",
    "# Write out the verilog post-synthesis code for the cosimulation object (further below)\n",
    "design.write_verilog(design.name, True)"
   ]
  },
  {
   "cell_type": "markdown",
   "metadata": {},
   "source": [
    "## Running the Co-simulation\n",
    "\n",
    "Again, the MyHDL and Cosimulation object simulation is run in parallel. When the assertion black box verilog module stops the simulation, a premature simulation end condition is fired. The output of the verilog simulation is captured, i.e. you should see an `ASSERTION FAILED` notice."
   ]
  },
  {
   "cell_type": "code",
   "execution_count": 4,
   "metadata": {},
   "outputs": [
    {
     "name": "stdout",
     "output_type": "stream",
     "text": [
      "00 False  ---  00 False\n",
      "1d False  ---  1d False\n",
      "3a False  ---  3a False\n",
      "74 False  ---  74 False\n",
      "e8 False  ---  e8 False\n",
      "cd False  ---  cd False\n",
      "87 False  ---  87 False\n",
      "13 False  ---  13 False\n",
      "26 False  ---  26 False\n",
      "4c False  ---  4c False\n",
      "98 False  ---  98 False\n",
      "2d False  ---  2d False\n",
      "5a False  ---  5a False\n"
     ]
    },
    {
     "name": "stderr",
     "output_type": "stream",
     "text": [
      "<class 'myhdl._SuspendSimulation'>: Simulated 30 timesteps\n"
     ]
    }
   ],
   "source": [
    "tb = tb_unit(UNIT, mapped_uut_assert, arst)\n",
    "# Run the cosimulation:\n",
    "tb.config_sim(backend = 'myhdl', timescale=\"1ps\", trace=False)\n",
    "tb.run_sim(30)\n",
    "tb.quit_sim() # Quit so we can run another one"
   ]
  },
  {
   "cell_type": "markdown",
   "metadata": {},
   "source": [
    "### Excercise\n",
    "\n",
    "Make the above simulation fail by changing the `START_VAL` from one of the lfsr8 units in `my_assert_success`"
   ]
  },
  {
   "cell_type": "markdown",
   "metadata": {},
   "source": [
    "## RTL Display"
   ]
  },
  {
   "cell_type": "markdown",
   "metadata": {},
   "source": [
    "Now display the black box architecture (remember to set the notebook `Trusted`):"
   ]
  },
  {
   "cell_type": "code",
   "execution_count": 5,
   "metadata": {
    "scrolled": true
   },
   "outputs": [
    {
     "name": "stdout",
     "output_type": "stream",
     "text": [
      "Generating RTL image...\n",
      "Display...\n"
     ]
    },
    {
     "data": {
      "image/svg+xml": [
       "<?xml version=\"1.0\" encoding=\"UTF-8\" standalone=\"no\"?>\n",
       "<!DOCTYPE svg PUBLIC \"-//W3C//DTD SVG 1.1//EN\"\n",
       " \"http://www.w3.org/Graphics/SVG/1.1/DTD/svg11.dtd\">\n",
       "<!-- Generated by graphviz version 2.40.1 (20161225.0304)\n",
       " -->\n",
       "<!-- Title: $user_assert_8_8_c1 Pages: 1 -->\n",
       "<svg width=\"720pt\" height=\"106pt\"\n",
       " viewBox=\"0.00 0.00 720.00 106.18\" xmlns=\"http://www.w3.org/2000/svg\" xmlns:xlink=\"http://www.w3.org/1999/xlink\">\n",
       "<g id=\"graph0\" class=\"graph\" transform=\"scale(.8775 .8775) rotate(0) translate(4 117)\">\n",
       "<title>$user_assert_8_8_c1</title>\n",
       "<polygon fill=\"#ffffff\" stroke=\"transparent\" points=\"-4,4 -4,-117 816.5027,-117 816.5027,4 -4,4\"/>\n",
       "<text text-anchor=\"middle\" x=\"406.2513\" y=\"-7.8\" font-family=\"Times,serif\" font-size=\"14.00\" fill=\"#000000\">$user_assert_8_8_c1</text>\n",
       "<!-- n11 -->\n",
       "<g id=\"node1\" class=\"node\">\n",
       "<title>n11</title>\n",
       "<polygon fill=\"none\" stroke=\"#000000\" points=\"54,-87.5442 54,-102.4558 38.1838,-113 15.8162,-113 0,-102.4558 0,-87.5442 15.8162,-77 38.1838,-77 54,-87.5442\"/>\n",
       "<text text-anchor=\"middle\" x=\"27\" y=\"-91.3\" font-family=\"Times,serif\" font-size=\"14.00\" fill=\"#000000\">a</text>\n",
       "</g>\n",
       "<!-- x0 -->\n",
       "<g id=\"node6\" class=\"node\">\n",
       "<title>x0</title>\n",
       "<path fill=\"none\" stroke=\"#000000\" d=\"M132,-113C132,-113 102,-113 102,-113 96,-113 90,-107 90,-101 90,-101 90,-89 90,-89 90,-83 96,-77 102,-77 102,-77 132,-77 132,-77 138,-77 144,-83 144,-89 144,-89 144,-101 144,-101 144,-107 138,-113 132,-113\"/>\n",
       "<text text-anchor=\"middle\" x=\"117\" y=\"-91.3\" font-family=\"Times,serif\" font-size=\"14.00\" fill=\"#000000\">BUF</text>\n",
       "</g>\n",
       "<!-- n11&#45;&gt;x0 -->\n",
       "<g id=\"edge1\" class=\"edge\">\n",
       "<title>n11:e&#45;&gt;x0:w</title>\n",
       "<path fill=\"none\" stroke=\"#000000\" stroke-width=\"3\" d=\"M54,-95C66,-95 71.25,-95 79.875,-95\"/>\n",
       "<polygon fill=\"#000000\" stroke=\"#000000\" stroke-width=\"3\" points=\"80,-98.5001 90,-95 80,-91.5001 80,-98.5001\"/>\n",
       "</g>\n",
       "<!-- n12 -->\n",
       "<g id=\"node2\" class=\"node\">\n",
       "<title>n12</title>\n",
       "<polygon fill=\"none\" stroke=\"#000000\" points=\"54,-33.5442 54,-48.4558 38.1838,-59 15.8162,-59 0,-48.4558 0,-33.5442 15.8162,-23 38.1838,-23 54,-33.5442\"/>\n",
       "<text text-anchor=\"middle\" x=\"27\" y=\"-37.3\" font-family=\"Times,serif\" font-size=\"14.00\" fill=\"#000000\">b</text>\n",
       "</g>\n",
       "<!-- x1 -->\n",
       "<g id=\"node7\" class=\"node\">\n",
       "<title>x1</title>\n",
       "<path fill=\"none\" stroke=\"#000000\" d=\"M132,-59C132,-59 102,-59 102,-59 96,-59 90,-53 90,-47 90,-47 90,-35 90,-35 90,-29 96,-23 102,-23 102,-23 132,-23 132,-23 138,-23 144,-29 144,-35 144,-35 144,-47 144,-47 144,-53 138,-59 132,-59\"/>\n",
       "<text text-anchor=\"middle\" x=\"117\" y=\"-37.3\" font-family=\"Times,serif\" font-size=\"14.00\" fill=\"#000000\">BUF</text>\n",
       "</g>\n",
       "<!-- n12&#45;&gt;x1 -->\n",
       "<g id=\"edge2\" class=\"edge\">\n",
       "<title>n12:e&#45;&gt;x1:w</title>\n",
       "<path fill=\"none\" stroke=\"#000000\" stroke-width=\"3\" d=\"M54,-41C66,-41 71.25,-41 79.875,-41\"/>\n",
       "<polygon fill=\"#000000\" stroke=\"#000000\" stroke-width=\"3\" points=\"80,-44.5001 90,-41 80,-37.5001 80,-44.5001\"/>\n",
       "</g>\n",
       "<!-- n13 -->\n",
       "<g id=\"node3\" class=\"node\">\n",
       "<title>n13</title>\n",
       "<polygon fill=\"none\" stroke=\"#000000\" points=\"476.2513,-86 445.2467,-68 476.2513,-50 507.256,-68 476.2513,-86\"/>\n",
       "<text text-anchor=\"middle\" x=\"476.2513\" y=\"-64.3\" font-family=\"Times,serif\" font-size=\"14.00\" fill=\"#000000\">eq</text>\n",
       "</g>\n",
       "<!-- c15 -->\n",
       "<g id=\"node4\" class=\"node\">\n",
       "<title>c15</title>\n",
       "<polygon fill=\"none\" stroke=\"#000000\" points=\"543.5027,-49 543.5027,-87 812.5027,-87 812.5027,-49 543.5027,-49\"/>\n",
       "<text text-anchor=\"middle\" x=\"575.5027\" y=\"-64.3\" font-family=\"Times,serif\" font-size=\"14.00\" fill=\"#000000\">COND</text>\n",
       "<polyline fill=\"none\" stroke=\"#000000\" points=\"607.5027,-49 607.5027,-87 \"/>\n",
       "<text text-anchor=\"middle\" x=\"699.5027\" y=\"-71.8\" font-family=\"Times,serif\" font-size=\"14.00\" fill=\"#000000\">$bb_user_assert_0_cell</text>\n",
       "<text text-anchor=\"middle\" x=\"699.5027\" y=\"-56.8\" font-family=\"Times,serif\" font-size=\"14.00\" fill=\"#000000\">user_assert</text>\n",
       "<polyline fill=\"none\" stroke=\"#000000\" points=\"791.5027,-49 791.5027,-87 \"/>\n",
       "<text text-anchor=\"middle\" x=\"802.0027\" y=\"-64.3\" font-family=\"Times,serif\" font-size=\"14.00\" fill=\"#000000\"> </text>\n",
       "</g>\n",
       "<!-- n13&#45;&gt;c15 -->\n",
       "<g id=\"edge4\" class=\"edge\">\n",
       "<title>n13:e&#45;&gt;c15:w</title>\n",
       "<path fill=\"none\" stroke=\"#000000\" d=\"M507.2513,-68C519.3351,-68 524.6218,-68 533.307,-68\"/>\n",
       "<polygon fill=\"#000000\" stroke=\"#000000\" points=\"533.5027,-71.5001 543.5027,-68 533.5027,-64.5001 533.5027,-71.5001\"/>\n",
       "</g>\n",
       "<!-- c19 -->\n",
       "<g id=\"node5\" class=\"node\">\n",
       "<title>c19</title>\n",
       "<polygon fill=\"none\" stroke=\"#000000\" points=\"180,-45 180,-91 409,-91 409,-45 180,-45\"/>\n",
       "<text text-anchor=\"middle\" x=\"193.5\" y=\"-75.8\" font-family=\"Times,serif\" font-size=\"14.00\" fill=\"#000000\">A</text>\n",
       "<polyline fill=\"none\" stroke=\"#000000\" points=\"180,-68 207,-68 \"/>\n",
       "<text text-anchor=\"middle\" x=\"193.5\" y=\"-52.8\" font-family=\"Times,serif\" font-size=\"14.00\" fill=\"#000000\">B</text>\n",
       "<polyline fill=\"none\" stroke=\"#000000\" points=\"207,-45 207,-91 \"/>\n",
       "<text text-anchor=\"middle\" x=\"295\" y=\"-71.8\" font-family=\"Times,serif\" font-size=\"14.00\" fill=\"#000000\">$bb_user_assert_0_eq</text>\n",
       "<text text-anchor=\"middle\" x=\"295\" y=\"-56.8\" font-family=\"Times,serif\" font-size=\"14.00\" fill=\"#000000\">$eq</text>\n",
       "<polyline fill=\"none\" stroke=\"#000000\" points=\"383,-45 383,-91 \"/>\n",
       "<text text-anchor=\"middle\" x=\"396\" y=\"-64.3\" font-family=\"Times,serif\" font-size=\"14.00\" fill=\"#000000\">Y</text>\n",
       "</g>\n",
       "<!-- c19&#45;&gt;n13 -->\n",
       "<g id=\"edge3\" class=\"edge\">\n",
       "<title>c19:e&#45;&gt;n13:w</title>\n",
       "<path fill=\"none\" stroke=\"#000000\" d=\"M409,-68C421.0838,-68 426.3704,-68 435.0557,-68\"/>\n",
       "<polygon fill=\"#000000\" stroke=\"#000000\" points=\"435.2514,-71.5001 445.2513,-68 435.2513,-64.5001 435.2514,-71.5001\"/>\n",
       "</g>\n",
       "<!-- x0&#45;&gt;c19 -->\n",
       "<g id=\"edge5\" class=\"edge\">\n",
       "<title>x0:e&#45;&gt;c19:w</title>\n",
       "<path fill=\"none\" stroke=\"#000000\" stroke-width=\"3\" d=\"M144,-95C157.2708,-95 161.1628,-86.2073 170.0372,-82.0857\"/>\n",
       "<polygon fill=\"#000000\" stroke=\"#000000\" stroke-width=\"3\" points=\"170.9294,-85.4749 180,-80 169.495,-78.6234 170.9294,-85.4749\"/>\n",
       "</g>\n",
       "<!-- x1&#45;&gt;c19 -->\n",
       "<g id=\"edge6\" class=\"edge\">\n",
       "<title>x1:e&#45;&gt;c19:w</title>\n",
       "<path fill=\"none\" stroke=\"#000000\" stroke-width=\"3\" d=\"M144,-41C157.2708,-41 161.1628,-49.7927 170.0372,-53.9143\"/>\n",
       "<polygon fill=\"#000000\" stroke=\"#000000\" stroke-width=\"3\" points=\"169.495,-57.3766 180,-56 170.9294,-50.5251 169.495,-57.3766\"/>\n",
       "</g>\n",
       "</g>\n",
       "</svg>\n"
      ],
      "text/plain": [
       "<graphviz.files.Source at 0x7fafeff9b828>"
      ]
     },
     "metadata": {},
     "output_type": "display_data"
    }
   ],
   "source": [
    "from ys_aux import to_svg\n",
    "# Specifically choose $user_assert cell to display:\n",
    "display(to_svg(design, \"$user_assert_8_8_c1\"))"
   ]
  },
  {
   "cell_type": "code",
   "execution_count": null,
   "metadata": {},
   "outputs": [],
   "source": []
  }
 ],
 "metadata": {
  "kernelspec": {
   "display_name": "Python 3",
   "language": "python",
   "name": "python3"
  },
  "language_info": {
   "codemirror_mode": {
    "name": "ipython",
    "version": 3
   },
   "file_extension": ".py",
   "mimetype": "text/x-python",
   "name": "python",
   "nbconvert_exporter": "python",
   "pygments_lexer": "ipython3",
   "version": "3.7.3"
  }
 },
 "nbformat": 4,
 "nbformat_minor": 4
}
