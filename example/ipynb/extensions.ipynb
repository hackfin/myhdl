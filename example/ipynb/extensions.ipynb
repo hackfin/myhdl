{
 "cells": [
  {
   "cell_type": "markdown",
   "metadata": {
    "tags": [
     "english"
    ]
   },
   "source": [
    "# Notebook extensions\n",
    "\n",
    "Some functionality is enabled by installing extensions:\n",
    "\n",
    "## Installing the multi language extension\n",
    "\n",
    "After installing this extension, restart your notebooks to have the `Language` switch available in the above menu."
   ]
  },
  {
   "cell_type": "markdown",
   "metadata": {
    "tags": [
     "deutsch"
    ]
   },
   "source": [
    "# Notebook-Erweiterungen\n",
    "\n",
    "## Mehrsprachenerweiterung installieren\n",
    "\n",
    "Nach Installation müssen die Notebooks neu gestartet werden, damit die Erweiterung `Language` im Menü zur Umschaltung der Sprache verfügbar ist."
   ]
  },
  {
   "cell_type": "code",
   "execution_count": 1,
   "metadata": {},
   "outputs": [
    {
     "name": "stdout",
     "output_type": "stream",
     "text": [
      "Out of date: /home/pyosys/.local/share/jupyter/nbextensions/ml.js\r\n",
      "Copying: js/ml.js -> /home/pyosys/.local/share/jupyter/nbextensions/ml.js\r\n",
      "\r\n",
      "    To initialize this nbextension in the browser every time the notebook (or other app) loads:\r\n",
      "    \r\n",
      "          jupyter nbextension enable <the entry point> --user\r\n",
      "    \r\n"
     ]
    }
   ],
   "source": [
    "! jupyter nbextension install js/ml.js --user"
   ]
  },
  {
   "cell_type": "code",
   "execution_count": 2,
   "metadata": {},
   "outputs": [
    {
     "name": "stdout",
     "output_type": "stream",
     "text": [
      "Enabling notebook extension ml...\r\n",
      "      - Validating: \u001b[32mOK\u001b[0m\r\n"
     ]
    }
   ],
   "source": [
    "! jupyter nbextension enable ml"
   ]
  }
 ],
 "metadata": {
  "kernelspec": {
   "display_name": "Python 3",
   "language": "python",
   "name": "python3"
  },
  "language_info": {
   "codemirror_mode": {
    "name": "ipython",
    "version": 3
   },
   "file_extension": ".py",
   "mimetype": "text/x-python",
   "name": "python",
   "nbconvert_exporter": "python",
   "pygments_lexer": "ipython3",
   "version": "3.7.3"
  }
 },
 "nbformat": 4,
 "nbformat_minor": 4
}
