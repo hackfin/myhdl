{
 "cells": [
  {
   "cell_type": "markdown",
   "metadata": {},
   "source": [
    "Languages: [english](#MyHDL-direct-python-synthesis) [german](#jupyosys:-Hardware-Synthese-mit-Python)\n",
    "\n",
    "See also the Language switch in menu."
   ]
  },
  {
   "cell_type": "markdown",
   "metadata": {
    "tags": [
     "english"
    ]
   },
   "source": [
    "# jupyosys - a MyHDL environment for hardware synthesis\n",
    "\n",
    "This set of notebooks collects a few executable examples and usage scenarios on direct MyHDL to yosys transfer and synthesis. The 'yosys_module' backend implements a Python based tool flow inside a Jupyter Notebook in order to synthesize a Python hardware description to silicon elements.\n",
    "\n",
    "At this stage, it integrates and supports:\n",
    "\n",
    "* Implementation of simple hardware designs written in Python for FPGA targets supported by [yosys](http://www.clifford.at/yosys/) and associated PnR tools\n",
    "* Co-Simulation of Verilog models (VHDL optional) with MyHDL designs and external stimuli\n",
    "* Basic waveform and RTL display \n",
    "* Automated tests for software/hardware design, examples\n",
    "\n",
    "\n",
    "## Short intro to notebooks\n",
    "\n",
    "The Jupyter notebooks run on a virtual machine which contains all preinstalled software, in particular the pyosys Python API for the yosys synthesis tool. If you're not familiar with it: it's an interactive IPython environment that allows you to run code, modify it, see the result, etc. Try it: Select the next cell and execute `>| Run` from the Menu or press `Shift`+`Return`."
   ]
  },
  {
   "cell_type": "code",
   "execution_count": 1,
   "metadata": {
    "tags": [
     "english"
    ]
   },
   "outputs": [
    {
     "name": "stdout",
     "output_type": "stream",
     "text": [
      "Hello\n"
     ]
    }
   ],
   "source": [
    "print(\"Hello\")"
   ]
  },
  {
   "cell_type": "markdown",
   "metadata": {
    "tags": [
     "english"
    ]
   },
   "source": [
    "It may happen that the IPython kernel remains busy for unknown reason, possibly due to lack of resources. In this case, just wait, try another time, or run the container locally as shown [below](#Local-docker-installation).\n",
    "\n",
    "**Note**: All changes you make are non-persistent, once the container is terminated, all data is lost. If you want to track your own examples, you will have to set up a work space from within the notebook container as shown below in the ['Hacker space'](#Hacker-space:-Examples-and-exercises).\n",
    "\n",
    "**Note**: In order to see synthesized RTL as SVG image, you may have to set the `Trusted` option in the current notebook using the button in the right upper corner of the menu bar.\n",
    "\n",
    "## Table of contents\n",
    "\n",
    "### Introduction / Demos\n",
    "\n",
    "* [First test](test.ipynb)\n",
    "* [Verification using Co-Simulation](cosimulation_detailed.ipynb)\n",
    "* Black boxes (see also detailed usage scenarios in the 'Hacker space')\n",
    "    * [Inferring black boxes](blackbox.ipynb) - Integrating Verilog modules\n",
    "    * [Generator classes](blackbox_generator.ipynb) - Generating logic 'inline'\n",
    "    * [Advanced blackbox usage](blackbox_inference.ipynb) - Inference rules\n",
    "* Hardware platform examples\n",
    "    * [Blinky for Lattice ECP5](blinky_ecp5.ipynb) Versa ECP5 board supply package\n",
    "\n",
    "### Tests\n",
    "\n",
    "* [Running the regress tests](run_test.ipynb)\n",
    "* [Running third party demos](external.ipynb)\n",
    "\n",
    "### Hacker space: Examples and exercises\n",
    "\n",
    "This is an external 'work in progress' work space which has to be initialized first.\n",
    "It pulls a number of examples and application scenarios including demonstration of a synthesis flow to FPGA hardware\n",
    "from a semi-official gitlab repository.\n",
    "\n",
    "* [Preparing work space](prepare.ipynb)\n",
    "* [Updating MyHDL or software packages in running notebook](updating.ipynb)\n",
    "\n",
    "When installed: [ ENTER ](../../../../../work/myhdl-synthesis/index.ipynb)\n",
    "\n",
    "## Troubleshooting\n",
    "\n",
    "### Bugs in the execution\n",
    "\n",
    "When you've found a non-working issue with a notebook or the software behind:\n",
    "\n",
    "1. Check for a test in the regress test coming close to your problem, that is marked\n",
    "   to fail ('x'). If the test case is not covered, proceed\n",
    "2. Create an issue on https://github.com/hackfin/myhdl/issues\n",
    "3. Submit non-working `*.ipynb` or add link to a gist or fork, mention what you would expect to happen\n",
    "4. If you know what is failing, feel free to go ahead, fork and create or extend a test case.\n",
    "   Then, you can create a pull request on github.\n",
    "   \n",
    "#### Known bugs\n",
    "\n",
    "These bugs are known and won't fix (by me):\n",
    "\n",
    "* Waveform display shows a java script error\n",
    "* Upon call of `to_svg()`, wrong parameters can cause the kernel to crash. This is a pyosys issue.\n",
    "* See also [list of pyosys issues](pyosys_issues.ipynb)\n",
    "   \n",
    "   \n",
    "### Local docker installation\n",
    "\n",
    "See also Dockerfile in https://github.com/hackfin/myhdl/tree/jupyosys.\n",
    "\n",
    "To start the docker container on your local machine, run:\n",
    "\n",
    "```\n",
    "docker run -it --rm -p 8888:8888 hackfin/myhdl_testing:jupyosys jupyter notebook --ip 0.0.0.0 --no-browser\n",
    "```\n",
    "\n",
    "You may also want to mount some local volume using the `-v` option. Upon start, a local URL will be printed out that you copy/paste into your browser."
   ]
  },
  {
   "cell_type": "markdown",
   "metadata": {
    "tags": [
     "deutsch"
    ]
   },
   "source": [
    "# jupyosys: Hardware-Synthese mit Python\n",
    "\n",
    "\n",
    "Diese Codesammlung ist dazu gedacht, einige Beispiele mit Übungen und Anwendungsszenarien zur Hardware-Synthese mit MyHDL und yosys zu dokumentieren und als Lehrmaterial zur Verfügung zu stellen.\n",
    "Eingebettet in einer per Webbrowser angesprochenen 'virtuellen Maschine' wird damit unterstützt:\n",
    "\n",
    "* Implementierung einfacher, in Python entworfenen Hardware-Designs für von [yosys](http://www.clifford.at/yosys/) unterstützter Zielhardware\n",
    "* Co-Simulation von Verilog-Modellen (VHDL optional) mit MyHDL-Designs und externer Stimuli\n",
    "* Einfache Anzeige für Wellenform und instanzierte Logik (RTL)\n",
    "* Automatisierte Tests zu Software/Hardware-Designs und der Beispiele\n",
    "\n",
    "**Vorerst sind die meisten Beispiele nur auf englisch verfügbar.**\n",
    "\n",
    "\n",
    "## Kurze Einführung in Jupyter Notebooks\n",
    "\n",
    "Die Jupyter-Notebooks laufen auf einer virtuellen Maschine, welche alle vorinstallierte Software beinhaltet, insbesondere die Python-API für das Synthesetool *Yosys*. Ein Jupyter-Notebook ist eine interaktive Umgebung, um Code auszuführen, Ergebnisse anzuzeigen, Modifikationen vorzunehmen, laufend zu dokumentieren, usw. Grundsätzlich geht das so: Zelle selektieren, im Menu `>| Run` ausführen oder `Shift`+`Return` drücken."
   ]
  },
  {
   "cell_type": "code",
   "execution_count": 2,
   "metadata": {
    "tags": [
     "deutsch"
    ]
   },
   "outputs": [
    {
     "name": "stdout",
     "output_type": "stream",
     "text": [
      "Moinmoin\n"
     ]
    }
   ],
   "source": [
    "print(\"Moinmoin\")"
   ]
  },
  {
   "cell_type": "markdown",
   "metadata": {
    "tags": [
     "deutsch"
    ]
   },
   "source": [
    "Es kann vorkommen, dass das dahinterliegende IPython-Kernel beschäftigt ist und lange nicht antwortet. In diesem Falle nicht einfach neustarten, sondern abwarten. Der Docker-Container kann auch [lokal](#Local-docker-installation) installiert werden.\n",
    "\n",
    "\n",
    "**Wichtig**: Alle Änderungen sind a priori flüchtig; sobald der Container beendet wird ('timeout'), sind alle Daten weg. Wenn die Änderungen verfolgt und eingecheckt werden sollen (git-Repository), muss ein Online-Arbeitsplatz eingerichtet werden: 'Hacker space', s.u.\n",
    "\n",
    "**Notabene**: Unter Umständen muss die Option `Trusted` oben rechts je Notebook aktiviert werden, um Grafiken anzuzeigen.\n",
    "\n",
    "## Inhalt\n",
    "\n",
    "### Einführung - erster Testlauf\n",
    "\n",
    "Eine erste Übersicht:\n",
    "\n",
    "* [Erster Test - ein XOR-Gatter](test.ipynb)\n",
    "* [Verifikation per Co-Simulation](cosimulation_detailed.ipynb)\n",
    "* Blackbox-Konzepte:\n",
    "    * [Inferring black boxes](blackbox.ipynb): Integration externer Module\n",
    "    * [Generator classes](blackbox_generator.ipynb) - Generating logic 'inline'\n",
    "    * [Advanced blackbox usage](blackbox_inference.ipynb) - Inference rules\n",
    "* Hardware platform examples\n",
    "    * [Blinky for Lattice ECP5](blinky_ecp5.ipynb) Versa ECP5 board supply package\n",
    "\n",
    "### Tests\n",
    "\n",
    "* [Running the regress tests](run_test.ipynb)\n",
    "* [Running third party demos](external.ipynb)\n",
    "\n",
    "### Hacker space: Arbeitsplatz, Beispiele und Übungen\n",
    "\n",
    "Der **Hacker space** ist eine git-basierte Umgebung um laufende Entwicklung zu verfolgen und eine Kollaborative zu ermöglichen. Die Grundausstattung lädt hierbei von einer Standardquelle als Beispiel nach.\n",
    "\n",
    "* [Vorbereitung](prepare.ipynb)\n",
    "* [Updating MyHDL or software packages in running notebook](updating.ipynb)\n",
    "\n",
    "Sofern vorinstalliert: [ **STARTEN** ](../../../../../work/myhdl-synthesis/index_de.ipynb)\n",
    "\n",
    "## Probleme, Fehlersuche\n",
    "\n",
    "### Fehler bei der Notebook-Ausführung\n",
    "\n",
    "Falls ein Problem bei der Notebook-Ausführung gefunden wurde:\n",
    "\n",
    "1. Überprüfe, ob es ein der Testsuite unter bereits einen ähnlichen Fall gibt, der mit 'x' markiert ist\n",
    "   (siehe [Regresstests](run_test.ipynb). Falls nicht, lies weiter.\n",
    "2. Erstelle einen Fall unter https://github.com/hackfin/myhdl/issues\n",
    "3. Hänge das nicht funktionierende Notebook (`*.ipynb`-Datei) an oder füge einen Link zu einer Quelle ein.\n",
    "   Gib eine Beschreibung des zu erwartenden Verhaltens.\n",
    "4. Wenn Du den Fehler selber fixen kannst, und mit git soweit vertraut bist, kannst Du die Entwicklungsumgebung per\n",
    "   'fork' kopieren und die Änderung einfach bei dir einchecken. Dann erstellst Du einen *Pull Request*.\n",
    "   \n",
    "#### Bekannte Fehler\n",
    "\n",
    "Diese Fehler sind bekannt und werden vorerst nicht repariert:\n",
    "\n",
    "* Waveform display shows a java script error\n",
    "* Upon call of `to_svg()`, wrong parameters can cause the kernel to crash. This is a pyosys issue.\n",
    "   \n",
    "   \n",
    "### Local docker installation\n",
    "\n",
    "See also Dockerfile in https://github.com/hackfin/myhdl/tree/jupyosys.\n",
    "\n",
    "To start the docker container on your local machine, run:\n",
    "\n",
    "```\n",
    "docker run -it --rm -p 8888:8888 hackfin/myhdl_testing:jupyosys jupyter notebook --ip 0.0.0.0 --no-browser\n",
    "```\n",
    "\n",
    "You may also want to mount some local volume using the `-v` option. Upon start, a local URL will be printed out that you copy/paste into your browser."
   ]
  },
  {
   "cell_type": "code",
   "execution_count": null,
   "metadata": {},
   "outputs": [],
   "source": []
  }
 ],
 "metadata": {
  "kernelspec": {
   "display_name": "Python 3",
   "language": "python",
   "name": "python3"
  },
  "language_info": {
   "codemirror_mode": {
    "name": "ipython",
    "version": 3
   },
   "file_extension": ".py",
   "mimetype": "text/x-python",
   "name": "python",
   "nbconvert_exporter": "python",
   "pygments_lexer": "ipython3",
   "version": "3.7.3"
  }
 },
 "nbformat": 4,
 "nbformat_minor": 4
}
