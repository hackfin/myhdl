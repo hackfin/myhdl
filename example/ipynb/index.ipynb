{
 "cells": [
  {
   "cell_type": "markdown",
   "metadata": {},
   "source": [
    "# MyHDL direct python synthesis\n",
    "\n",
    "This repository is set up to collect a few executable examples and usage scenarios on direct MyHDL to yosys transfer and synthesis.\n",
    "\n",
    "\n",
    "## Short intro to notebooks\n",
    "\n",
    "The Jupyter notebooks run on a virtual machine which contains all preinstalled software, in particular the pyosys python API for the [yosys](http://www.clifford.at/yosys/) synthesis tool. If you're not familiar with it: it's an interactive IPython environment that allows you to run code, modify it, see the result, etc.\n",
    "\n",
    "It may happen that the IPython kernel becomes inactive for unknown reason, possibly due to temporary lack of server resources. In this case, just wait, try another time, or run the container locally (see Dockerfile in https://github.com/hackfin/myhdl/tree/jupyosys ):\n",
    "\n",
    "```\n",
    "docker run -it --rm -p 8888:8888 jupyosys jupyter notebook --ip 0.0.0.0 --no-browser\n",
    "```\n",
    "\n",
    "You may also want to mount some local volume using the `-v` option. Upon start, a local URL will be printed out that you copy/paste into your browser.\n",
    "\n",
    "**Note**: All changes you make are non-persistent, once the container is terminated, all data is lost. If you want to track your own examples, you will have to set up a work space from within the notebook container as shown below ('Hacker space').\n",
    "\n",
    "**Note**: In order to see synthesized RTL as SVG image in some of the examples, you may have to set this notebook to `Trusted` using the button in the right upper corner of the menu bar.\n",
    "\n",
    "## Table of contents\n",
    "\n",
    "* [First test](test.ipynb)\n",
    "* [Verification using Co-Simulation](cosimulation_detailed.ipynb)\n",
    "* [Inferring black boxes](blackbox.ipynb)\n",
    "* [Running the regress tests](run_test.ipynb)\n",
    "* [Running third party demos](external.ipynb)\n",
    "\n",
    "\n",
    "### Hacker space\n",
    "\n",
    "* [Preparing work space](prepare.ipynb)\n",
    "* [Updating MyHDL or software packages in running notebook](updating.ipynb)"
   ]
  },
  {
   "cell_type": "code",
   "execution_count": null,
   "metadata": {},
   "outputs": [],
   "source": []
  }
 ],
 "metadata": {
  "kernelspec": {
   "display_name": "Python 3",
   "language": "python",
   "name": "python3"
  },
  "language_info": {
   "codemirror_mode": {
    "name": "ipython",
    "version": 3
   },
   "file_extension": ".py",
   "mimetype": "text/x-python",
   "name": "python",
   "nbconvert_exporter": "python",
   "pygments_lexer": "ipython3",
   "version": "3.7.3"
  }
 },
 "nbformat": 4,
 "nbformat_minor": 4
}
