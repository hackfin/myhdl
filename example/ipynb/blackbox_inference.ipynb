{
 "cells": [
  {
   "cell_type": "markdown",
   "metadata": {},
   "source": [
    "# Advanced Blackbox usage\n",
    "\n",
    "(for experienced MyHDL users)\n",
    "\n",
    "## Top level implementations\n",
    "\n",
    "A design could be inferred or implemented in various ways, like:\n",
    "\n",
    "* A simulation only\n",
    "* An implementation for board X and Architecture A, ...\n",
    "* Several implementations using different optimization options\n",
    "* Synthesizing using a different tool than yosys\n",
    "\n",
    "We may want to keep the different creation and inference variants in one place and not spread across different configuration files. This is where the `@blackbox` concept comes in again.\n",
    "\n",
    "The example `hello` implementation below acts like a `@block` entity, but has no true hardware interface like a module with I/O ports. Instead, it is an abstract representation of a hardware setup with selectable implementation rules, i.e. functions decorated by `@inference`. The parameter to the `@inference` decorator defines and initializes an implementation context ('design') and is typically derived from `yshelper.Implementation`.\n",
    "\n",
    "When used to integrated development environments such as ISE, Vivado, Quartus, Diamond, to name some of the larger player's software tools, you might be used to design settings buried in various configuration files.\n",
    "In the blackbox approach, those settings are buried in the inference rules.\n",
    "\n",
    "Internally, yosys uses the blackbox model to infer an intermediate representation of the `@blackbox` functional description, exactly like you want it. After all, it is up to building a library and making it portable to different architectures.\n",
    "\n",
    "## Simulation and Co-Simulation\n",
    "\n",
    "In some cases, you might want to simulate a full PCB board with externally modelled stimuli and verify one crucial unit of the design in particular. The `@blackbox` can receive a design unit object to be instanced as parameter - this can be a MyHDL design or an externally co-simulated Verilog model resulting from a post-map output. This mapping rule can be embedded into an `@inference` function, returning a simulation object which is again passed as the `unit` parameter in a second pass.\n",
    "\n",
    "The code below demonstrates how to achieve that."
   ]
  },
  {
   "cell_type": "code",
   "execution_count": 1,
   "metadata": {},
   "outputs": [],
   "source": [
    "from myhdl import *\n",
    "\n",
    "# Period for 25 MHz\n",
    "CLKHALFPERIOD = 500000 // 25\n",
    "\n",
    "TOP_UNIT_NAME = \"top\"\n",
    "\n",
    "@blackbox\n",
    "def hello(unit, USE_PLL = True):\n",
    "    \n",
    "    clk_in = Signal(bool(0))\n",
    "    uart_rxd, uart_txd = [ Signal(bool(1)) for i in range(2) ]\n",
    "    led = Signal(modbv()[8:])\n",
    "    reset_n = ResetSignal(1, 0, True)\n",
    "\n",
    "    top = unit(clk_in, reset_n, led, USE_PLL)\n",
    " \n",
    "    def convert(design, top_name, create_trace = False):\n",
    "        top.convert(\"yosys_module\", design, trace=create_trace)\n",
    "        # design.run(\"read_verilog verilog/bram.v\")\n",
    "        design.finalize(top_name)\n",
    "\n",
    "        \n",
    "    @inference(MyImpl)\n",
    "    def hw_impl(design, top_name):\n",
    "        \"This implements and synthesizes the design\"\n",
    "        convert(design, top_name)\n",
    "\n",
    "        print(\"\\033[7;35mDUMMY HARDWARE IMPLEMENTATION\\033[0m\")\n",
    "        # Here we would synthesize and map for a specific architecture\n",
    "        design.run(\"hierarchy -check; opt; check\")\n",
    "  \n",
    "        return design    \n",
    "\n",
    "    @inference(MySim)\n",
    "    def sim(design, top_name):\n",
    "        \"This creates a simulation object from a component inside this blackbox\"\n",
    "        convert(design, top_name)\n",
    "\n",
    "        print(\"DUMMY SIMULATION\")\n",
    "        tb = \"### Simulation object ###\"\n",
    "        # Here we would create the synthesis commands\n",
    "  \n",
    "        return tb    \n",
    "\n",
    "    # Simulation part:\n",
    "    @instance\n",
    "    def startup():\n",
    "        \"Reset generator\"\n",
    "        reset_n.next = False\n",
    "        yield delay(10 * CLKHALFPERIOD)\n",
    "        reset_n.next = True\n",
    "    \n",
    "    @always(delay(CLKHALFPERIOD))\n",
    "    def clkgen():\n",
    "        \"Clock generator\"\n",
    "        clk_in.next = not clk_in\n",
    "    \n",
    "    \n",
    "    return instances(), hw_impl, sim"
   ]
  },
  {
   "cell_type": "markdown",
   "metadata": {},
   "source": [
    "The default implementation from the yshelper module is the `Implementation` class as shown below. It creates a yosys design context by default."
   ]
  },
  {
   "cell_type": "code",
   "execution_count": 2,
   "metadata": {},
   "outputs": [],
   "source": [
    "from myhdl.conversion.yshelper import Design\n",
    "\n",
    "class Implementation:\n",
    "    \"\"\"The board supply class provides only a base method to create a\n",
    "yosys design. Typically, one derives from it and inserts own initialization\"\"\"\n",
    "    def __init__(self):\n",
    "        print(\"Implementation:\", self.__doc__)\n",
    "    def instance(self, name):\n",
    "        design = Design(name)\n",
    "        return design\n"
   ]
  },
  {
   "cell_type": "markdown",
   "metadata": {},
   "source": [
    "We can derive specific initialization rules from this class:"
   ]
  },
  {
   "cell_type": "code",
   "execution_count": 3,
   "metadata": {},
   "outputs": [],
   "source": [
    "class MyImpl(Implementation):\n",
    "    def __init__(self):\n",
    "        print(\"\\033[7;36mMy HW implementation\\033[0m\")\n",
    "\n",
    "class MySim(Implementation):\n",
    "    def __init__(self):\n",
    "        print(\"Initialize simulation\")   "
   ]
  },
  {
   "cell_type": "markdown",
   "metadata": {},
   "source": [
    "### The top level unit\n",
    "\n",
    "The block below is a dummy top level unit, which is passed to the `hello` black box from above as implementation selection."
   ]
  },
  {
   "cell_type": "code",
   "execution_count": 4,
   "metadata": {},
   "outputs": [],
   "source": [
    "from lfsr8 import lfsr8\n",
    "\n",
    "@block\n",
    "def dummy(clk, reset_n, led, USE_PLL):\n",
    "    \n",
    "    reset = ResetSignal(0, 1, True)\n",
    "    dout = Signal(intbv()[8:])\n",
    "    \n",
    "    if USE_PLL:\n",
    "        print(\"Using PLL: Dummy\")\n",
    "\n",
    "    lfsr_inst = lfsr8(clk, True, reset, 0, dout)\n",
    "        \n",
    "    @always_comb\n",
    "    def assign():\n",
    "        reset.next = not reset_n\n",
    "        led.next = dout\n",
    "        \n",
    "    return instances()"
   ]
  },
  {
   "cell_type": "markdown",
   "metadata": {},
   "source": [
    "An `@inference` function is passed the `design` context and the `top_name` identifier when calling the `.implement()` member function (see below)\n",
    "\n",
    "We choose the hardware implementation rule:"
   ]
  },
  {
   "cell_type": "code",
   "execution_count": 5,
   "metadata": {},
   "outputs": [
    {
     "name": "stdout",
     "output_type": "stream",
     "text": [
      "Using PLL: Dummy\n",
      "\u001b[7;34mSYNTHESIS\u001b[0m: Wrapping for inference: MyImpl()\n",
      "\u001b[7;34mSYNTHESIS\u001b[0m: Wrapping for inference: MySim()\n",
      "\u001b[7;36mMy HW implementation\u001b[0m\n",
      "\u001b[7;34mSYNTHESIS\u001b[0m: Implementing unit 'hw_impl'\n",
      "Using PLL: Dummy\n",
      "\u001b[32m========================================================\u001b[0m\n",
      "\u001b[32mCREATE Module: 'lfsr8_0'\u001b[0m\n",
      "\u001b[32mAdding module with name:\u001b[0m lfsr8_1_c1_1_c0_8\n",
      "CONVERT_RTL tree >>>>>> 'DUMMY_LFSR8_0_WORKER' \n",
      "\u001b[7;31mTIE OTHER\u001b[0m: /home/pyosys/src/myhdl/myhdl-local/example/ipynb/lfsr8.py:31 v\n",
      "CONVERT_RTL tree >>>>>> 'DUMMY_LFSR8_0_ASSIGN' \n",
      "============================================================================\n",
      "DONE instancing submodules\n",
      "\u001b[32m========================================================\u001b[0m\n",
      "\u001b[32mCREATE Module: 'dummy'\u001b[0m\n",
      "\u001b[32mAdding module with name:\u001b[0m dummy_1_1_8_c1\n",
      "CONVERT_RTL tree >>>>>> 'DUMMY_ASSIGN' \n",
      "============================================================================\n",
      "++++++++ lfsr8_0: lfsr8_1_c1_1_c0_8  ++++++++\n",
      "DONE instancing submodules\n",
      "\u001b[7;35mDUMMY HARDWARE IMPLEMENTATION\u001b[0m\n"
     ]
    }
   ],
   "source": [
    "impl = hello(dummy)\n",
    "design = impl.implement(\"hw_impl\", TOP_UNIT_NAME)"
   ]
  },
  {
   "cell_type": "markdown",
   "metadata": {},
   "source": [
    "But we can also extract a simulation object out of the `hello` blackbox:"
   ]
  },
  {
   "cell_type": "code",
   "execution_count": 6,
   "metadata": {},
   "outputs": [
    {
     "name": "stdout",
     "output_type": "stream",
     "text": [
      "Using PLL: Dummy\n",
      "\u001b[7;34mSYNTHESIS\u001b[0m: Wrapping for inference: MyImpl()\n",
      "\u001b[7;34mSYNTHESIS\u001b[0m: Wrapping for inference: MySim()\n",
      "Initialize simulation\n",
      "\u001b[7;34mSYNTHESIS\u001b[0m: Implementing unit 'sim'\n",
      "Using PLL: Dummy\n",
      "\u001b[32m========================================================\u001b[0m\n",
      "\u001b[32mCREATE Module: 'lfsr8_0_0'\u001b[0m\n",
      "\u001b[32mAdding module with name:\u001b[0m lfsr8_1_c1_1_c0_8\n",
      "CONVERT_RTL tree >>>>>> 'DUMMY_LFSR8_0_0_WORKER' \n",
      "\u001b[7;31mTIE OTHER\u001b[0m: /home/pyosys/src/myhdl/myhdl-local/example/ipynb/lfsr8.py:31 v\n",
      "CONVERT_RTL tree >>>>>> 'DUMMY_LFSR8_0_0_ASSIGN' \n",
      "============================================================================\n",
      "DONE instancing submodules\n",
      "\u001b[32m========================================================\u001b[0m\n",
      "\u001b[32mCREATE Module: 'dummy'\u001b[0m\n",
      "\u001b[32mAdding module with name:\u001b[0m dummy_1_1_8_c1\n",
      "CONVERT_RTL tree >>>>>> 'DUMMY_ASSIGN' \n",
      "============================================================================\n",
      "++++++++ lfsr8_0_0: lfsr8_1_c1_1_c0_8  ++++++++\n",
      "DONE instancing submodules\n",
      "DUMMY SIMULATION\n",
      "This is the simulation object: ### Simulation object ###\n"
     ]
    }
   ],
   "source": [
    "sim = hello(dummy)\n",
    "tb = sim.implement(\"sim\", TOP_UNIT_NAME + \"_sim\")\n",
    "print(\"This is the simulation object:\", tb)"
   ]
  },
  {
   "cell_type": "markdown",
   "metadata": {},
   "source": [
    "### RTL display\n",
    "\n",
    "We display the 'synthesized' design for reference:"
   ]
  },
  {
   "cell_type": "code",
   "execution_count": 7,
   "metadata": {},
   "outputs": [
    {
     "name": "stdout",
     "output_type": "stream",
     "text": [
      "Generating RTL image...\n",
      "Display...\n"
     ]
    },
    {
     "data": {
      "image/svg+xml": [
       "<?xml version=\"1.0\" encoding=\"UTF-8\" standalone=\"no\"?>\n",
       "<!DOCTYPE svg PUBLIC \"-//W3C//DTD SVG 1.1//EN\"\n",
       " \"http://www.w3.org/Graphics/SVG/1.1/DTD/svg11.dtd\">\n",
       "<!-- Generated by graphviz version 2.40.1 (20161225.0304)\n",
       " -->\n",
       "<!-- Title: top Pages: 1 -->\n",
       "<svg width=\"720pt\" height=\"79pt\"\n",
       " viewBox=\"0.00 0.00 720.00 78.76\" xmlns=\"http://www.w3.org/2000/svg\" xmlns:xlink=\"http://www.w3.org/1999/xlink\">\n",
       "<g id=\"graph0\" class=\"graph\" transform=\"scale(.6429 .6429) rotate(0) translate(4 118.5)\">\n",
       "<title>top</title>\n",
       "<polygon fill=\"#ffffff\" stroke=\"transparent\" points=\"-4,4 -4,-118.5 1115.9005,-118.5 1115.9005,4 -4,4\"/>\n",
       "<text text-anchor=\"middle\" x=\"555.9503\" y=\"-7.8\" font-family=\"Times,serif\" font-size=\"14.00\" fill=\"#000000\">top</text>\n",
       "<!-- n1 -->\n",
       "<g id=\"node1\" class=\"node\">\n",
       "<title>n1</title>\n",
       "<polygon fill=\"none\" stroke=\"#000000\" points=\"385.8897,-89.0442 385.8897,-103.9558 370.0735,-114.5 347.706,-114.5 331.8897,-103.9558 331.8897,-89.0442 347.706,-78.5 370.0735,-78.5 385.8897,-89.0442\"/>\n",
       "<text text-anchor=\"middle\" x=\"358.8897\" y=\"-92.8\" font-family=\"Times,serif\" font-size=\"14.00\" fill=\"#000000\">clk</text>\n",
       "</g>\n",
       "<!-- c11 -->\n",
       "<g id=\"node7\" class=\"node\">\n",
       "<title>c11</title>\n",
       "<polygon fill=\"none\" stroke=\"#000000\" points=\"481.2905,-46.5 481.2905,-92.5 732.2905,-92.5 732.2905,-46.5 481.2905,-46.5\"/>\n",
       "<text text-anchor=\"middle\" x=\"507.7905\" y=\"-77.3\" font-family=\"Times,serif\" font-size=\"14.00\" fill=\"#000000\">clk</text>\n",
       "<polyline fill=\"none\" stroke=\"#000000\" points=\"481.2905,-69.5 534.2905,-69.5 \"/>\n",
       "<text text-anchor=\"middle\" x=\"507.7905\" y=\"-54.3\" font-family=\"Times,serif\" font-size=\"14.00\" fill=\"#000000\">reset</text>\n",
       "<polyline fill=\"none\" stroke=\"#000000\" points=\"534.2905,-46.5 534.2905,-92.5 \"/>\n",
       "<text text-anchor=\"middle\" x=\"608.7905\" y=\"-73.3\" font-family=\"Times,serif\" font-size=\"14.00\" fill=\"#000000\">$lfsr8_0</text>\n",
       "<text text-anchor=\"middle\" x=\"608.7905\" y=\"-58.3\" font-family=\"Times,serif\" font-size=\"14.00\" fill=\"#000000\">lfsr8_1_c1_1_c0_8</text>\n",
       "<polyline fill=\"none\" stroke=\"#000000\" points=\"683.2905,-46.5 683.2905,-92.5 \"/>\n",
       "<text text-anchor=\"middle\" x=\"707.7905\" y=\"-65.8\" font-family=\"Times,serif\" font-size=\"14.00\" fill=\"#000000\">dout</text>\n",
       "</g>\n",
       "<!-- n1&#45;&gt;c11 -->\n",
       "<g id=\"edge1\" class=\"edge\">\n",
       "<title>n1:e&#45;&gt;c11:w</title>\n",
       "<path fill=\"none\" stroke=\"#000000\" d=\"M385.8897,-96.5C425.1224,-96.5 436.48,-83.9673 470.9217,-81.8133\"/>\n",
       "<polygon fill=\"#000000\" stroke=\"#000000\" points=\"471.4008,-85.3005 481.2905,-81.5 471.1893,-78.3037 471.4008,-85.3005\"/>\n",
       "</g>\n",
       "<!-- n2 -->\n",
       "<g id=\"node2\" class=\"node\">\n",
       "<title>n2</title>\n",
       "<polygon fill=\"none\" stroke=\"#000000\" points=\"850.0955,-87.5 768.4851,-69.5 850.0955,-51.5 931.706,-69.5 850.0955,-87.5\"/>\n",
       "<text text-anchor=\"middle\" x=\"850.0955\" y=\"-65.8\" font-family=\"Times,serif\" font-size=\"14.00\" fill=\"#000000\">dout::wire</text>\n",
       "</g>\n",
       "<!-- x0 -->\n",
       "<g id=\"node8\" class=\"node\">\n",
       "<title>x0</title>\n",
       "<path fill=\"none\" stroke=\"#000000\" d=\"M1009.9005,-87.5C1009.9005,-87.5 979.9005,-87.5 979.9005,-87.5 973.9005,-87.5 967.9005,-81.5 967.9005,-75.5 967.9005,-75.5 967.9005,-63.5 967.9005,-63.5 967.9005,-57.5 973.9005,-51.5 979.9005,-51.5 979.9005,-51.5 1009.9005,-51.5 1009.9005,-51.5 1015.9005,-51.5 1021.9005,-57.5 1021.9005,-63.5 1021.9005,-63.5 1021.9005,-75.5 1021.9005,-75.5 1021.9005,-81.5 1015.9005,-87.5 1009.9005,-87.5\"/>\n",
       "<text text-anchor=\"middle\" x=\"994.9005\" y=\"-65.8\" font-family=\"Times,serif\" font-size=\"14.00\" fill=\"#000000\">BUF</text>\n",
       "</g>\n",
       "<!-- n2&#45;&gt;x0 -->\n",
       "<g id=\"edge3\" class=\"edge\">\n",
       "<title>n2:e&#45;&gt;x0:w</title>\n",
       "<path fill=\"none\" stroke=\"#000000\" stroke-width=\"3\" d=\"M931.9005,-69.5C943.9005,-69.5 949.1505,-69.5 957.7755,-69.5\"/>\n",
       "<polygon fill=\"#000000\" stroke=\"#000000\" stroke-width=\"3\" points=\"957.9005,-73.0001 967.9005,-69.5 957.9005,-66.0001 957.9005,-73.0001\"/>\n",
       "</g>\n",
       "<!-- n3 -->\n",
       "<g id=\"node3\" class=\"node\">\n",
       "<title>n3</title>\n",
       "<polygon fill=\"none\" stroke=\"#000000\" points=\"1111.9005,-62.0442 1111.9005,-76.9558 1096.0843,-87.5 1073.7167,-87.5 1057.9005,-76.9558 1057.9005,-62.0442 1073.7167,-51.5 1096.0843,-51.5 1111.9005,-62.0442\"/>\n",
       "<text text-anchor=\"middle\" x=\"1084.9005\" y=\"-65.8\" font-family=\"Times,serif\" font-size=\"14.00\" fill=\"#000000\">led</text>\n",
       "</g>\n",
       "<!-- n4 -->\n",
       "<g id=\"node4\" class=\"node\">\n",
       "<title>n4</title>\n",
       "<polygon fill=\"none\" stroke=\"#000000\" points=\"358.8897,-60.5 272.5881,-42.5 358.8897,-24.5 445.1914,-42.5 358.8897,-60.5\"/>\n",
       "<text text-anchor=\"middle\" x=\"358.8897\" y=\"-38.8\" font-family=\"Times,serif\" font-size=\"14.00\" fill=\"#000000\">reset::wire</text>\n",
       "</g>\n",
       "<!-- n4&#45;&gt;c11 -->\n",
       "<g id=\"edge6\" class=\"edge\">\n",
       "<title>n4:e&#45;&gt;c11:w</title>\n",
       "<path fill=\"none\" stroke=\"#000000\" d=\"M444.8897,-42.5C458.2866,-42.5 462.25,-51.2927 471.225,-55.4143\"/>\n",
       "<polygon fill=\"#000000\" stroke=\"#000000\" points=\"470.7883,-58.8981 481.2905,-57.5 472.2087,-52.0437 470.7883,-58.8981\"/>\n",
       "</g>\n",
       "<!-- n5 -->\n",
       "<g id=\"node5\" class=\"node\">\n",
       "<title>n5</title>\n",
       "<polygon fill=\"none\" stroke=\"#000000\" points=\"98.7346,-35.0442 98.7346,-49.9558 69.744,-60.5 28.745,-60.5 -.2457,-49.9558 -.2457,-35.0442 28.745,-24.5 69.744,-24.5 98.7346,-35.0442\"/>\n",
       "<text text-anchor=\"middle\" x=\"49.2445\" y=\"-38.8\" font-family=\"Times,serif\" font-size=\"14.00\" fill=\"#000000\">reset_n</text>\n",
       "</g>\n",
       "<!-- c8 -->\n",
       "<g id=\"node6\" class=\"node\">\n",
       "<title>c8</title>\n",
       "<polygon fill=\"none\" stroke=\"#000000\" points=\"134.489,-23.5 134.489,-61.5 236.489,-61.5 236.489,-23.5 134.489,-23.5\"/>\n",
       "<text text-anchor=\"middle\" x=\"147.989\" y=\"-38.8\" font-family=\"Times,serif\" font-size=\"14.00\" fill=\"#000000\">A</text>\n",
       "<polyline fill=\"none\" stroke=\"#000000\" points=\"161.489,-23.5 161.489,-61.5 \"/>\n",
       "<text text-anchor=\"middle\" x=\"185.989\" y=\"-46.3\" font-family=\"Times,serif\" font-size=\"14.00\" fill=\"#000000\">$14</text>\n",
       "<text text-anchor=\"middle\" x=\"185.989\" y=\"-31.3\" font-family=\"Times,serif\" font-size=\"14.00\" fill=\"#000000\">$not</text>\n",
       "<polyline fill=\"none\" stroke=\"#000000\" points=\"210.489,-23.5 210.489,-61.5 \"/>\n",
       "<text text-anchor=\"middle\" x=\"223.489\" y=\"-38.8\" font-family=\"Times,serif\" font-size=\"14.00\" fill=\"#000000\">Y</text>\n",
       "</g>\n",
       "<!-- n5&#45;&gt;c8 -->\n",
       "<g id=\"edge7\" class=\"edge\">\n",
       "<title>n5:e&#45;&gt;c8:w</title>\n",
       "<path fill=\"none\" stroke=\"#000000\" d=\"M98.2445,-42.5C110.326,-42.5 115.6116,-42.5 124.2952,-42.5\"/>\n",
       "<polygon fill=\"#000000\" stroke=\"#000000\" points=\"124.489,-46.0001 134.489,-42.5 124.4889,-39.0001 124.489,-46.0001\"/>\n",
       "</g>\n",
       "<!-- c8&#45;&gt;n4 -->\n",
       "<g id=\"edge5\" class=\"edge\">\n",
       "<title>c8:e&#45;&gt;n4:w</title>\n",
       "<path fill=\"none\" stroke=\"#000000\" d=\"M236.489,-42.5C248.6225,-42.5 253.931,-42.5 262.652,-42.5\"/>\n",
       "<polygon fill=\"#000000\" stroke=\"#000000\" points=\"262.8898,-46.0001 272.8897,-42.5 262.8897,-39.0001 262.8898,-46.0001\"/>\n",
       "</g>\n",
       "<!-- c11&#45;&gt;n2 -->\n",
       "<g id=\"edge2\" class=\"edge\">\n",
       "<title>c11:e&#45;&gt;n2:w</title>\n",
       "<path fill=\"none\" stroke=\"#000000\" stroke-width=\"3\" d=\"M732.2905,-69.5C744.2905,-69.5 749.5405,-69.5 758.1655,-69.5\"/>\n",
       "<polygon fill=\"#000000\" stroke=\"#000000\" stroke-width=\"3\" points=\"758.2906,-73.0001 768.2905,-69.5 758.2905,-66.0001 758.2906,-73.0001\"/>\n",
       "</g>\n",
       "<!-- x0&#45;&gt;n3 -->\n",
       "<g id=\"edge4\" class=\"edge\">\n",
       "<title>x0:e&#45;&gt;n3:w</title>\n",
       "<path fill=\"none\" stroke=\"#000000\" stroke-width=\"3\" d=\"M1021.9005,-69.5C1033.9005,-69.5 1039.1505,-69.5 1047.7755,-69.5\"/>\n",
       "<polygon fill=\"#000000\" stroke=\"#000000\" stroke-width=\"3\" points=\"1047.9005,-73.0001 1057.9005,-69.5 1047.9005,-66.0001 1047.9005,-73.0001\"/>\n",
       "</g>\n",
       "</g>\n",
       "</svg>\n"
      ],
      "text/plain": [
       "<graphviz.files.Source at 0x7f645f4d7978>"
      ]
     },
     "metadata": {},
     "output_type": "display_data"
    }
   ],
   "source": [
    "from ys_aux import to_svg\n",
    "display(to_svg(design, TOP_UNIT_NAME, 100))"
   ]
  },
  {
   "cell_type": "code",
   "execution_count": null,
   "metadata": {},
   "outputs": [],
   "source": []
  }
 ],
 "metadata": {
  "kernelspec": {
   "display_name": "Python 3",
   "language": "python",
   "name": "python3"
  },
  "language_info": {
   "codemirror_mode": {
    "name": "ipython",
    "version": 3
   },
   "file_extension": ".py",
   "mimetype": "text/x-python",
   "name": "python",
   "nbconvert_exporter": "python",
   "pygments_lexer": "ipython3",
   "version": "3.7.3"
  }
 },
 "nbformat": 4,
 "nbformat_minor": 4
}
