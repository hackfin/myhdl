{
 "cells": [
  {
   "cell_type": "markdown",
   "metadata": {
    "tags": [
     "english"
    ]
   },
   "source": [
    "# Preparing your work space\n",
    "\n",
    "The work space will currently check out into `$HOME/work` from the URL below. If you wish to use your own fork and commit to it, you might have to set up an authentication. This explained inside the work space document tree."
   ]
  },
  {
   "cell_type": "markdown",
   "metadata": {
    "tags": [
     "deutsch"
    ]
   },
   "source": [
    "# Arbeitsplatz vorbereiten\n",
    "\n",
    "Der virtuelle Arbeitsplatz basiert auf dem Versionsverwaltungssystem *git* und wird im Verzeichnis `$HOME/work` angelegt. \n",
    "Wenn Du einen eigenen *fork* anlegen willst, muss entsprechend etwas Authentifikation konfiguriert werden. Die Details sind innerhalb des 'hacker space' dokumentiert."
   ]
  },
  {
   "cell_type": "markdown",
   "metadata": {
    "tags": [
     "english"
    ]
   },
   "source": [
    "The default examples are checked out as follows:"
   ]
  },
  {
   "cell_type": "markdown",
   "metadata": {
    "tags": [
     "deutsch"
    ]
   },
   "source": [
    "Die Standardbeispiele werden wie folgt ausgecheckt:"
   ]
  },
  {
   "cell_type": "code",
   "execution_count": 1,
   "metadata": {},
   "outputs": [
    {
     "name": "stdout",
     "output_type": "stream",
     "text": [
      "Cloning into 'myhdl-synthesis'...\n",
      "remote: Enumerating objects: 390, done.\u001b[K\n",
      "remote: Counting objects: 100% (390/390), done.\u001b[K\n",
      "remote: Compressing objects: 100% (211/211), done.\u001b[K\n",
      "remote: Total 390 (delta 263), reused 266 (delta 172), pack-reused 0\u001b[K\n",
      "Receiving objects: 100% (390/390), 717.35 KiB | 1.41 MiB/s, done.\n",
      "Resolving deltas: 100% (263/263), done.\n"
     ]
    }
   ],
   "source": [
    "!export WORK=$HOME/work && [ -e $WORK ] || mkdir $WORK && cd $WORK && git clone https://gitlab.com/hackfin/myhdl-synthesis.git"
   ]
  },
  {
   "cell_type": "markdown",
   "metadata": {
    "tags": [
     "english"
    ]
   },
   "source": [
    "We are now set, verify we have received a few notebooks:"
   ]
  },
  {
   "cell_type": "markdown",
   "metadata": {
    "tags": [
     "deutsch"
    ]
   },
   "source": [
    "Wir sind damit bereit und haben einige Notebook-Dateien empfangen:"
   ]
  },
  {
   "cell_type": "code",
   "execution_count": 2,
   "metadata": {},
   "outputs": [
    {
     "name": "stdout",
     "output_type": "stream",
     "text": [
      "README.md\t    examples\t      index_de.ipynb  tracing.ipynb\r\n",
      "adding_files.ipynb  extensions.ipynb  intro.ipynb     vhdl2myhdl.ipynb\r\n",
      "autotest.ipynb\t    ghdl.ipynb\t      js\t      waveform.ipynb\r\n",
      "examining.ipynb     index.ipynb       solutions\r\n"
     ]
    }
   ],
   "source": [
    "!ls ../../../../../work/myhdl-synthesis"
   ]
  },
  {
   "cell_type": "markdown",
   "metadata": {
    "tags": [
     "english"
    ]
   },
   "source": [
    "Now you may proceeed to the [Project Index](../../../../../work/myhdl-synthesis/index.ipynb)."
   ]
  },
  {
   "cell_type": "markdown",
   "metadata": {
    "tags": [
     "deutsch"
    ]
   },
   "source": [
    "Fahre nun for per [Projekt-Index](../../../../../work/myhdl-synthesis/index_de.ipynb)."
   ]
  },
  {
   "cell_type": "markdown",
   "metadata": {
    "tags": [
     "english"
    ]
   },
   "source": [
    "## Update existing work space"
   ]
  },
  {
   "cell_type": "markdown",
   "metadata": {
    "tags": [
     "german"
    ]
   },
   "source": [
    "## Updates\n",
    "\n",
    "Falls sich Neuerungen ergeben haben, können so allfällige Updates aus der Quelle nachgeführt werden:"
   ]
  },
  {
   "cell_type": "code",
   "execution_count": 3,
   "metadata": {},
   "outputs": [
    {
     "name": "stdout",
     "output_type": "stream",
     "text": [
      "Already up to date.\r\n"
     ]
    }
   ],
   "source": [
    "!export WORK=$HOME/work && cd $WORK/myhdl-synthesis && git pull"
   ]
  },
  {
   "cell_type": "code",
   "execution_count": null,
   "metadata": {},
   "outputs": [],
   "source": []
  }
 ],
 "metadata": {
  "kernelspec": {
   "display_name": "Python 3",
   "language": "python",
   "name": "python3"
  },
  "language_info": {
   "codemirror_mode": {
    "name": "ipython",
    "version": 3
   },
   "file_extension": ".py",
   "mimetype": "text/x-python",
   "name": "python",
   "nbconvert_exporter": "python",
   "pygments_lexer": "ipython3",
   "version": "3.7.3"
  }
 },
 "nbformat": 4,
 "nbformat_minor": 4
}
