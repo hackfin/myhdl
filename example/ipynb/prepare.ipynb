{
 "cells": [
  {
   "cell_type": "markdown",
   "metadata": {
    "tags": [
     "english"
    ]
   },
   "source": [
    "# Preparing your work space\n",
    "\n",
    "The work space will currently check out into `$HOME/work` from the URL below. If you wish to use your own fork and commit to it, you might have to set up an authentication. This explained inside the work space document tree."
   ]
  },
  {
   "cell_type": "markdown",
   "metadata": {
    "tags": [
     "deutsch"
    ]
   },
   "source": [
    "# Arbeitsplatz vorbereiten\n",
    "\n",
    "Der virtuelle Arbeitsplatz basiert auf dem Versionsverwaltungssystem *git* und wird im Verzeichnis `$HOME/work` angelegt. \n",
    "Wenn Du einen eigenen *fork* anlegen willst, muss entsprechend etwas Authentifikation konfiguriert werden. Die Details sind innerhalb des 'hacker space' dokumentiert."
   ]
  },
  {
   "cell_type": "markdown",
   "metadata": {
    "tags": [
     "english"
    ]
   },
   "source": [
    "The default examples are checked out as follows:"
   ]
  },
  {
   "cell_type": "markdown",
   "metadata": {
    "tags": [
     "deutsch"
    ]
   },
   "source": [
    "Die Standardbeispiele werden wie folgt ausgecheckt:"
   ]
  },
  {
   "cell_type": "code",
   "execution_count": 1,
   "metadata": {},
   "outputs": [
    {
     "name": "stdout",
     "output_type": "stream",
     "text": [
      "Cloning into 'myhdl-synthesis'...\n",
      "remote: Enumerating objects: 224, done.\u001b[K\n",
      "remote: Counting objects: 100% (224/224), done.\u001b[K\n",
      "remote: Compressing objects: 100% (114/114), done.\u001b[K\n",
      "remote: Total 224 (delta 144), reused 171 (delta 106), pack-reused 0\u001b[K\n",
      "Receiving objects: 100% (224/224), 266.00 KiB | 2.01 MiB/s, done.\n",
      "Resolving deltas: 100% (144/144), done.\n"
     ]
    }
   ],
   "source": [
    "!export WORK=$HOME/work && [ -e $WORK ] || mkdir $WORK && cd $WORK && git clone https://gitlab.com/hackfin/myhdl-synthesis.git"
   ]
  },
  {
   "cell_type": "markdown",
   "metadata": {
    "tags": [
     "english"
    ]
   },
   "source": [
    "We are now set, verify we have received a few notebooks:"
   ]
  },
  {
   "cell_type": "markdown",
   "metadata": {
    "tags": [
     "deutsch"
    ]
   },
   "source": [
    "Wir sind damit bereit und haben einige Notebook-Dateien empfangen:"
   ]
  },
  {
   "cell_type": "code",
   "execution_count": 2,
   "metadata": {},
   "outputs": [
    {
     "name": "stdout",
     "output_type": "stream",
     "text": [
      "README.md\t    examples\t intro.ipynb\tvhdl2myhdl.ipynb\r\n",
      "adding_files.ipynb  ghdl.ipynb\t solutions\twaveform.ipynb\r\n",
      "examining.ipynb     index.ipynb  tracing.ipynb\r\n"
     ]
    }
   ],
   "source": [
    "!ls ../../../../../work/myhdl-synthesis"
   ]
  },
  {
   "cell_type": "markdown",
   "metadata": {
    "tags": [
     "english"
    ]
   },
   "source": [
    "Now you may proceeed to the [Project Index](../../../../../work/myhdl-synthesis/index.ipynb)."
   ]
  },
  {
   "cell_type": "markdown",
   "metadata": {
    "tags": [
     "deutsch"
    ]
   },
   "source": [
    "Fahre nun for per [Projekt-Index](../../../../../work/myhdl-synthesis/index.ipynb)."
   ]
  },
  {
   "cell_type": "markdown",
   "metadata": {
    "tags": [
     "english"
    ]
   },
   "source": [
    "## Update existing work space"
   ]
  },
  {
   "cell_type": "markdown",
   "metadata": {
    "tags": [
     "german"
    ]
   },
   "source": [
    "## Updates\n",
    "\n",
    "Falls sich Neuerungen ergeben haben, können so allfällige Updates aus der Quelle nachgeführt werden:"
   ]
  },
  {
   "cell_type": "code",
   "execution_count": 2,
   "metadata": {},
   "outputs": [
    {
     "name": "stdout",
     "output_type": "stream",
     "text": [
      "remote: Enumerating objects: 80, done.\u001b[K\n",
      "remote: Counting objects: 100% (77/77), done.\u001b[K\n",
      "remote: Compressing objects: 100% (35/35), done.\u001b[K\n",
      "remote: Total 53 (delta 39), reused 27 (delta 18), pack-reused 0\u001b[K\n",
      "Unpacking objects: 100% (53/53), done.\n",
      "From https://gitlab.com/hackfin/myhdl-synthesis\n",
      "   d617cee..c1c5392  playground -> origin/playground\n",
      "Already up to date.\n"
     ]
    }
   ],
   "source": [
    "!export WORK=$HOME/work && cd $WORK/myhdl-synthesis && git pull"
   ]
  }
 ],
 "metadata": {
  "kernelspec": {
   "display_name": "Python 3",
   "language": "python",
   "name": "python3"
  },
  "language_info": {
   "codemirror_mode": {
    "name": "ipython",
    "version": 3
   },
   "file_extension": ".py",
   "mimetype": "text/x-python",
   "name": "python",
   "nbconvert_exporter": "python",
   "pygments_lexer": "ipython3",
   "version": "3.7.3"
  }
 },
 "nbformat": 4,
 "nbformat_minor": 4
}
