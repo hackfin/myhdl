{
 "cells": [
  {
   "cell_type": "markdown",
   "metadata": {
    "tags": [
     "english"
    ]
   },
   "source": [
    "# Preparing your work space\n",
    "\n",
    "The work space will currently check out into `$HOME/work` from the URL below. If you wish to use your own fork and commit to it, you might have to set up an authentication. This explained inside the work space document tree."
   ]
  },
  {
   "cell_type": "markdown",
   "metadata": {
    "tags": [
     "deutsch"
    ]
   },
   "source": [
    "# Arbeitsplatz vorbereiten\n",
    "\n",
    "Der virtuelle Arbeitsplatz basiert auf dem Versionsverwaltungssystem *git* und wird im Verzeichnis `$HOME/work` angelegt. \n",
    "Wenn Du einen eigenen *fork* anlegen willst, muss entsprechend etwas Authentifikation konfiguriert werden. Die Details sind innerhalb des 'hacker space' dokumentiert."
   ]
  },
  {
   "cell_type": "markdown",
   "metadata": {
    "tags": [
     "english"
    ]
   },
   "source": [
    "The default examples are checked out as follows:"
   ]
  },
  {
   "cell_type": "markdown",
   "metadata": {
    "tags": [
     "deutsch"
    ]
   },
   "source": [
    "Die Standardbeispiele werden wie folgt ausgecheckt:"
   ]
  },
  {
   "cell_type": "code",
   "execution_count": 3,
   "metadata": {},
   "outputs": [
    {
     "name": "stdout",
     "output_type": "stream",
     "text": [
      "Cloning into 'myhdl-synthesis'...\n",
      "remote: Enumerating objects: 307, done.\u001b[K\n",
      "remote: Counting objects: 100% (307/307), done.\u001b[K\n",
      "remote: Compressing objects: 100% (129/129), done.\u001b[K\n",
      "remote: Total 307 (delta 203), reused 268 (delta 172), pack-reused 0\u001b[K\n",
      "Receiving objects: 100% (307/307), 398.77 KiB | 2.51 MiB/s, done.\n",
      "Resolving deltas: 100% (203/203), done.\n"
     ]
    }
   ],
   "source": [
    "!export WORK=$HOME/work && [ -e $WORK ] || mkdir $WORK && cd $WORK && git clone https://gitlab.com/hackfin/myhdl-synthesis.git -b playground"
   ]
  },
  {
   "cell_type": "markdown",
   "metadata": {
    "tags": [
     "english"
    ]
   },
   "source": [
    "We are now set, verify we have received a few notebooks:"
   ]
  },
  {
   "cell_type": "markdown",
   "metadata": {
    "tags": [
     "deutsch"
    ]
   },
   "source": [
    "Wir sind damit bereit und haben einige Notebook-Dateien empfangen:"
   ]
  },
  {
   "cell_type": "code",
   "execution_count": 2,
   "metadata": {},
   "outputs": [
    {
     "name": "stdout",
     "output_type": "stream",
     "text": [
      "README.md\t    examples\t intro.ipynb\tvhdl2myhdl.ipynb\r\n",
      "adding_files.ipynb  ghdl.ipynb\t solutions\twaveform.ipynb\r\n",
      "examining.ipynb     index.ipynb  tracing.ipynb\r\n"
     ]
    }
   ],
   "source": [
    "!ls ../../../../../work/myhdl-synthesis"
   ]
  },
  {
   "cell_type": "markdown",
   "metadata": {
    "tags": [
     "english"
    ]
   },
   "source": [
    "Now you may proceeed to the [Project Index](../../../../../work/myhdl-synthesis/index.ipynb)."
   ]
  },
  {
   "cell_type": "markdown",
   "metadata": {
    "tags": [
     "deutsch"
    ]
   },
   "source": [
    "Fahre nun for per [Projekt-Index](../../../../../work/myhdl-synthesis/index.ipynb)."
   ]
  },
  {
   "cell_type": "markdown",
   "metadata": {
    "tags": [
     "english"
    ]
   },
   "source": [
    "## Update existing work space"
   ]
  },
  {
   "cell_type": "markdown",
   "metadata": {
    "tags": [
     "german"
    ]
   },
   "source": [
    "## Updates\n",
    "\n",
    "Falls sich Neuerungen ergeben haben, können so allfällige Updates aus der Quelle nachgeführt werden:"
   ]
  },
  {
   "cell_type": "code",
   "execution_count": 2,
   "metadata": {},
   "outputs": [
    {
     "name": "stdout",
     "output_type": "stream",
     "text": [
      "remote: Enumerating objects: 37, done.\u001b[K\n",
      "remote: Counting objects: 100% (37/37), done.\u001b[K\n",
      "remote: Compressing objects: 100% (19/19), done.\u001b[K\n",
      "remote: Total 19 (delta 18), reused 0 (delta 0), pack-reused 0\u001b[K\n",
      "Unpacking objects: 100% (19/19), done.\n",
      "From https://gitlab.com/hackfin/myhdl-synthesis\n",
      " + c1c5392...523e5d7 playground -> origin/playground  (forced update)\n",
      "\n",
      "*** Please tell me who you are.\n",
      "\n",
      "Run\n",
      "\n",
      "  git config --global user.email \"you@example.com\"\n",
      "  git config --global user.name \"Your Name\"\n",
      "\n",
      "to set your account's default identity.\n",
      "Omit --global to set the identity only in this repository.\n",
      "\n",
      "fatal: unable to auto-detect email address (got 'pyosys@f53ab1536177.(none)')\n"
     ]
    }
   ],
   "source": [
    "!export WORK=$HOME/work && cd $WORK/myhdl-synthesis && git pull"
   ]
  },
  {
   "cell_type": "code",
   "execution_count": null,
   "metadata": {},
   "outputs": [],
   "source": []
  }
 ],
 "metadata": {
  "kernelspec": {
   "display_name": "Python 3",
   "language": "python",
   "name": "python3"
  },
  "language_info": {
   "codemirror_mode": {
    "name": "ipython",
    "version": 3
   },
   "file_extension": ".py",
   "mimetype": "text/x-python",
   "name": "python",
   "nbconvert_exporter": "python",
   "pygments_lexer": "ipython3",
   "version": "3.7.3"
  }
 },
 "nbformat": 4,
 "nbformat_minor": 4
}
