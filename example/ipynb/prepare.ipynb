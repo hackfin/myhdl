{
 "cells": [
  {
   "cell_type": "markdown",
   "metadata": {},
   "source": [
    "# Preparing your work space\n",
    "\n",
    "The work space will currently check out into `$HOME/work` from the URL below. If you wish to use your own fork and commit to it, you might have to set up an authentication. This explained inside the work space document tree."
   ]
  },
  {
   "cell_type": "markdown",
   "metadata": {},
   "source": [
    "The default examples are checked out as follows:"
   ]
  },
  {
   "cell_type": "code",
   "execution_count": 1,
   "metadata": {},
   "outputs": [
    {
     "name": "stdout",
     "output_type": "stream",
     "text": [
      "Cloning into 'myhdl-synthesis'...\n",
      "remote: Enumerating objects: 177, done.\u001b[K\n",
      "remote: Counting objects: 100% (177/177), done.\u001b[K\n",
      "remote: Compressing objects: 100% (153/153), done.\u001b[K\n",
      "remote: Total 177 (delta 108), reused 50 (delta 21), pack-reused 0\u001b[K\n",
      "Receiving objects: 100% (177/177), 180.43 KiB | 4.40 MiB/s, done.\n",
      "Resolving deltas: 100% (108/108), done.\n"
     ]
    }
   ],
   "source": [
    "!export WORK=$HOME/work && [ -e $WORK ] || mkdir $WORK && cd $WORK && git clone https://gitlab.com/hackfin/myhdl-synthesis.git"
   ]
  },
  {
   "cell_type": "markdown",
   "metadata": {},
   "source": [
    "We are now set, verify we have received a few notebooks:"
   ]
  },
  {
   "cell_type": "code",
   "execution_count": 2,
   "metadata": {},
   "outputs": [
    {
     "name": "stdout",
     "output_type": "stream",
     "text": [
      "README.md\t    examples\t intro.ipynb\tvhdl2myhdl.ipynb\r\n",
      "adding_files.ipynb  ghdl.ipynb\t solutions\twaveform.ipynb\r\n",
      "examining.ipynb     index.ipynb  tracing.ipynb\r\n"
     ]
    }
   ],
   "source": [
    "!ls ../../../../../work/myhdl-synthesis"
   ]
  },
  {
   "cell_type": "markdown",
   "metadata": {},
   "source": [
    "Now you may proceeed to the [Project Index](../../../../../work/myhdl-synthesis/index.ipynb)."
   ]
  }
 ],
 "metadata": {
  "kernelspec": {
   "display_name": "Python 3",
   "language": "python",
   "name": "python3"
  },
  "language_info": {
   "codemirror_mode": {
    "name": "ipython",
    "version": 3
   },
   "file_extension": ".py",
   "mimetype": "text/x-python",
   "name": "python",
   "nbconvert_exporter": "python",
   "pygments_lexer": "ipython3",
   "version": "3.7.3"
  }
 },
 "nbformat": 4,
 "nbformat_minor": 4
}
