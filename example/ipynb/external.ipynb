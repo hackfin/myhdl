{
 "cells": [
  {
   "cell_type": "markdown",
   "metadata": {},
   "source": [
    "# Using third party demos\n",
    "\n",
    "## myhdlpeek\n",
    "\n",
    "myhdlpeek is a module providing simple waveform output to the IPython display.\n",
    "\n",
    "First, run the next line to pull in external code:"
   ]
  },
  {
   "cell_type": "code",
   "execution_count": 7,
   "metadata": {},
   "outputs": [
    {
     "name": "stdout",
     "output_type": "stream",
     "text": [
      "fatal: destination path 'myhdlpeek' already exists and is not an empty directory.\r\n"
     ]
    }
   ],
   "source": [
    "! cd $HOME && [ -e external ] || mkdir external && cd external && git clone https://github.com/xesscorp/myhdlpeek.git"
   ]
  },
  {
   "cell_type": "markdown",
   "metadata": {},
   "source": [
    "Then install the module:"
   ]
  },
  {
   "cell_type": "code",
   "execution_count": 6,
   "metadata": {},
   "outputs": [
    {
     "name": "stdout",
     "output_type": "stream",
     "text": [
      "warning: no previously-included files matching '__pycache__' found under directory '*'\r\n",
      "warning: no previously-included files matching '*.py[co]' found under directory '*'\r\n"
     ]
    }
   ],
   "source": [
    "! cd $HOME/external/myhdlpeek && python3 setup.py install --user >/dev/null"
   ]
  },
  {
   "cell_type": "markdown",
   "metadata": {},
   "source": [
    "Then visit an example, like\n",
    "[Simple Multiplexer demo](/notebooks/external/myhdlpeek/examples/peeker_simple_mux.ipynb) or see [directory](/tree/external/myhdlpeek/examples)\n"
   ]
  },
  {
   "cell_type": "code",
   "execution_count": null,
   "metadata": {},
   "outputs": [],
   "source": []
  }
 ],
 "metadata": {
  "kernelspec": {
   "display_name": "Python 3",
   "language": "python",
   "name": "python3"
  },
  "language_info": {
   "codemirror_mode": {
    "name": "ipython",
    "version": 3
   },
   "file_extension": ".py",
   "mimetype": "text/x-python",
   "name": "python",
   "nbconvert_exporter": "python",
   "pygments_lexer": "ipython3",
   "version": "3.7.3"
  }
 },
 "nbformat": 4,
 "nbformat_minor": 4
}
